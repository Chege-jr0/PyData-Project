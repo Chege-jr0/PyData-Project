{
 "cells": [
  {
   "cell_type": "code",
   "execution_count": 1,
   "id": "23f84044",
   "metadata": {},
   "outputs": [],
   "source": [
    "import wbdata\n",
    "import pandas as pd\n",
    "import datetime\n",
    "import requests\n",
    "import matplotlib.pyplot as plt\n",
    "import numpy as np\n",
    "import statsmodels.api as sm\n",
    "from mpl_toolkits.mplot3d import Axes3D"
   ]
  },
  {
   "cell_type": "code",
   "execution_count": 2,
   "id": "08483587",
   "metadata": {},
   "outputs": [
    {
     "name": "stdout",
     "output_type": "stream",
     "text": [
      "           GDP_USD\n",
      "date              \n",
      "2024  1.244987e+11\n",
      "2023  1.080386e+11\n",
      "2022  1.144490e+11\n",
      "2021  1.097037e+11\n",
      "2020  1.006575e+11\n"
     ]
    }
   ],
   "source": [
    "#Colection of data from World Bank\n",
    "data_date = (datetime.datetime(2007, 1, 1), datetime.datetime(2024, 12, 31))\n",
    "\n",
    "indicators = {'NY.GDP.MKTP.CD' : 'GDP_USD'}\n",
    "\n",
    "data = wbdata.get_dataframe(indicators, country='KEN')\n",
    "\n",
    "print(data.head())"
   ]
  },
  {
   "cell_type": "code",
   "execution_count": 3,
   "id": "71081d4c",
   "metadata": {},
   "outputs": [
    {
     "name": "stdout",
     "output_type": "stream",
     "text": [
      "         date       GDP_USD\n",
      "17 2007-01-01  3.195820e+10\n",
      "16 2008-01-01  3.589515e+10\n",
      "15 2009-01-01  4.234722e+10\n",
      "14 2010-01-01  4.540562e+10\n",
      "13 2011-01-01  4.686947e+10\n"
     ]
    }
   ],
   "source": [
    "#Setting the date to the required time and using the date format\n",
    "start_date = datetime.datetime(2007, 1, 1)\n",
    "end_date = datetime.datetime(2024, 1, 1)\n",
    "\n",
    "gdp_data = data.reset_index()\n",
    "\n",
    "gdp_data['date'] = pd.to_datetime(gdp_data['date'], format='%Y', errors='coerce')\n",
    "gdp_data = gdp_data.sort_values('date')\n",
    "\n",
    "gdp_data = gdp_data[(gdp_data['date'] >= start_date) & (gdp_data['date'] <= end_date)]\n",
    "\n",
    "print(gdp_data.head())"
   ]
  },
  {
   "cell_type": "code",
   "execution_count": 4,
   "id": "3e92a16d",
   "metadata": {},
   "outputs": [
    {
     "name": "stdout",
     "output_type": "stream",
     "text": [
      "         date       GDP_USD\n",
      "17 2007-01-01  3.195820e+10\n",
      "16 2008-01-01  3.589515e+10\n",
      "15 2009-01-01  4.234722e+10\n",
      "14 2010-01-01  4.540562e+10\n",
      "13 2011-01-01  4.686947e+10\n"
     ]
    }
   ],
   "source": [
    "#Drop any missing values\n",
    "gdp_new_data = gdp_data.dropna()\n",
    "\n",
    "print(gdp_new_data.head())"
   ]
  },
  {
   "cell_type": "code",
   "execution_count": 5,
   "id": "73f865cc",
   "metadata": {},
   "outputs": [
    {
     "name": "stdout",
     "output_type": "stream",
     "text": [
      "The exchange rate used is: 129.166284\n"
     ]
    }
   ],
   "source": [
    "#Using the exchangerate api to get value of a dollar in kes in realtime\n",
    "url =\"https://open.er-api.com/v6/latest/USD\" \n",
    "response = requests.get(url)\n",
    "data = response.json()\n",
    "\n",
    "usd_to_kes = data[\"rates\"][\"KES\"]\n",
    "print(f\"The exchange rate used is: {usd_to_kes}\")"
   ]
  },
  {
   "cell_type": "code",
   "execution_count": 6,
   "id": "36977681",
   "metadata": {},
   "outputs": [
    {
     "name": "stdout",
     "output_type": "stream",
     "text": [
      "         date       GDP_USD       GDP_KES\n",
      "17 2007-01-01  3.195820e+10  4.127921e+12\n",
      "16 2008-01-01  3.589515e+10  4.636444e+12\n",
      "15 2009-01-01  4.234722e+10  5.469833e+12\n",
      "14 2010-01-01  4.540562e+10  5.864875e+12\n",
      "13 2011-01-01  4.686947e+10  6.053956e+12\n"
     ]
    }
   ],
   "source": [
    "#Converting the GDP column\n",
    "gdp_new_data['GDP_KES'] = gdp_new_data['GDP_USD'] * usd_to_kes\n",
    "\n",
    "print(gdp_new_data.head())"
   ]
  },
  {
   "cell_type": "code",
   "execution_count": 8,
   "id": "55c4696e",
   "metadata": {},
   "outputs": [
    {
     "name": "stdout",
     "output_type": "stream",
     "text": [
      "   Year       GDP_KES\n",
      "4  2020  1.300156e+13\n",
      "3  2021  1.417001e+13\n",
      "2  2022  1.478295e+13\n",
      "1  2023  1.395494e+13\n",
      "0  2024  1.608103e+13\n"
     ]
    }
   ],
   "source": [
    "#Preparing the data\n",
    "gdp_new_data['Year'] = gdp_new_data['date'].dt.year\n",
    "gdp_clean_new_data = gdp_new_data[['Year', 'GDP_KES']]\n",
    "\n",
    "print(gdp_clean_new_data.tail())"
   ]
  },
  {
   "cell_type": "code",
   "execution_count": 18,
   "id": "047548c3",
   "metadata": {},
   "outputs": [
    {
     "name": "stderr",
     "output_type": "stream",
     "text": [
      "<>:1: SyntaxWarning: invalid escape sequence '\\D'\n",
      "<>:1: SyntaxWarning: invalid escape sequence '\\D'\n",
      "C:\\Users\\HP ELITEBOOK 840 G6\\AppData\\Local\\Temp\\ipykernel_27256\\3026982200.py:1: SyntaxWarning: invalid escape sequence '\\D'\n",
      "  cbk_data = pd.read_csv(\"C:\\DATA ANALYTICS\\PYDATA\\PyData_Project\\data\\Mobile_Payments_2010-2024.csv\")\n"
     ]
    }
   ],
   "source": [
    "cbk_data = pd.read_csv(\"C:\\DATA ANALYTICS\\PYDATA\\PyData_Project\\data\\Mobile_Payments_2010-2024.csv\")"
   ]
  },
  {
   "cell_type": "code",
   "execution_count": 19,
   "id": "08aebaac",
   "metadata": {},
   "outputs": [
    {
     "name": "stdout",
     "output_type": "stream",
     "text": [
      "     Year  Month  Active Agents  Active Agents.1  \\\n",
      "213  2007  March            307         0.020992   \n",
      "212  2007  April            362         0.054944   \n",
      "211  2007    May            447         0.107733   \n",
      "210  2007   June            527         0.175652   \n",
      "209  2007   July            681         0.268499   \n",
      "\n",
      "     Total Agent Cash in Cash Out (Volume Million)  \\\n",
      "213                                       0.021714   \n",
      "212                                       0.070000   \n",
      "211                                       0.150000   \n",
      "210                                       0.233661   \n",
      "209                                       0.354298   \n",
      "\n",
      "     Total Agent Cash in Cash Out (Value KSh billions)       date  \n",
      "213                                           0.064391 2007-03-01  \n",
      "212                                           0.220896 2007-04-01  \n",
      "211                                           0.483709 2007-05-01  \n",
      "210                                           0.720102 2007-06-01  \n",
      "209                                           1.065370 2007-07-01  \n"
     ]
    }
   ],
   "source": [
    "#Setting the data in the desired format\n",
    "cbk_data['date'] = pd.to_datetime(cbk_data['Year'].astype(str) + '-' + cbk_data['Month'], format='%Y-%B')\n",
    "cbk_new_data = cbk_data.sort_values('date')\n",
    "print(cbk_new_data.head())"
   ]
  },
  {
   "cell_type": "code",
   "execution_count": 20,
   "id": "3c68c2d2",
   "metadata": {},
   "outputs": [
    {
     "name": "stdout",
     "output_type": "stream",
     "text": [
      "            Year      Month  Active Agents  Active Agents.1  \\\n",
      "date                                                          \n",
      "2024-08-01  2024     August         348065            78.64   \n",
      "2024-09-01  2024  September         367551            79.37   \n",
      "2024-10-01  2024    October         358621            80.82   \n",
      "2024-11-01  2024   November         383624            81.55   \n",
      "2024-12-01  2024   December         381116            82.43   \n",
      "\n",
      "            Total Agent Cash in Cash Out (Volume Million)  \\\n",
      "date                                                        \n",
      "2024-08-01                                         214.25   \n",
      "2024-09-01                                         196.49   \n",
      "2024-10-01                                         215.26   \n",
      "2024-11-01                                         297.02   \n",
      "2024-12-01                                         309.28   \n",
      "\n",
      "            Total Agent Cash in Cash Out (Value KSh billions)  \n",
      "date                                                           \n",
      "2024-08-01                                             705.91  \n",
      "2024-09-01                                             670.52  \n",
      "2024-10-01                                             722.28  \n",
      "2024-11-01                                             707.27  \n",
      "2024-12-01                                             753.45  \n"
     ]
    }
   ],
   "source": [
    "#Setting the date as the index\n",
    "Mobile_data = cbk_new_data.set_index('date')\n",
    "print(Mobile_data.tail())"
   ]
  },
  {
   "cell_type": "code",
   "execution_count": 21,
   "id": "542f1821",
   "metadata": {},
   "outputs": [
    {
     "name": "stdout",
     "output_type": "stream",
     "text": [
      "    Year  Total Agent Cash in Cash Out (Value KSh billions)  Active Agents\n",
      "13  2020                                           5213.543  251099.666667\n",
      "14  2021                                           6868.770  298064.250000\n",
      "15  2022                                           7908.830  306987.500000\n",
      "16  2023                                           7953.930  328422.833333\n",
      "17  2024                                           8697.740  345117.666667\n"
     ]
    }
   ],
   "source": [
    "#Aggregating the CBK mobile data by year(2007-2024)\n",
    "cbk_yearly = Mobile_data.groupby('Year').agg({\n",
    "    'Total Agent Cash in Cash Out (Value KSh billions)': 'sum',\n",
    "   \n",
    "    'Active Agents': 'mean'\n",
    "}).reset_index()\n",
    "\n",
    "print(cbk_yearly.tail())"
   ]
  },
  {
   "cell_type": "code",
   "execution_count": 23,
   "id": "19149ef4",
   "metadata": {},
   "outputs": [
    {
     "name": "stdout",
     "output_type": "stream",
     "text": [
      "    Year  Total Agent Cash in Cash Out (Value KSh billions)  Active Agents  \\\n",
      "13  2020                                           5213.543  251099.666667   \n",
      "14  2021                                           6868.770  298064.250000   \n",
      "15  2022                                           7908.830  306987.500000   \n",
      "16  2023                                           7953.930  328422.833333   \n",
      "17  2024                                           8697.740  345117.666667   \n",
      "\n",
      "         date       GDP_USD       GDP_KES  \n",
      "13 2020-01-01  1.006575e+11  1.300156e+13  \n",
      "14 2021-01-01  1.097037e+11  1.417001e+13  \n",
      "15 2022-01-01  1.144490e+11  1.478295e+13  \n",
      "16 2023-01-01  1.080386e+11  1.395494e+13  \n",
      "17 2024-01-01  1.244987e+11  1.608103e+13  \n"
     ]
    }
   ],
   "source": [
    "#Merging the two datasets\n",
    "merged_data = pd.merge(cbk_yearly, gdp_new_data, on='Year', how='inner')\n",
    "\n",
    "print(merged_data.tail())"
   ]
  },
  {
   "cell_type": "code",
   "execution_count": null,
   "id": "b413d771",
   "metadata": {},
   "outputs": [],
   "source": []
  }
 ],
 "metadata": {
  "kernelspec": {
   "display_name": "venv",
   "language": "python",
   "name": "python3"
  },
  "language_info": {
   "codemirror_mode": {
    "name": "ipython",
    "version": 3
   },
   "file_extension": ".py",
   "mimetype": "text/x-python",
   "name": "python",
   "nbconvert_exporter": "python",
   "pygments_lexer": "ipython3",
   "version": "3.13.7"
  }
 },
 "nbformat": 4,
 "nbformat_minor": 5
}
