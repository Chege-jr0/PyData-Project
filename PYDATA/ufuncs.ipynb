{
 "cells": [
  {
   "cell_type": "markdown",
   "id": "62e1fe6c",
   "metadata": {},
   "source": [
    "## Universal Functions\n",
    "Universal functions are functions in Numpy that operate element-wise on arrays.\n",
    "They are vectorize- meaning they avoid Python loops and run much faster\n",
    "They work on scalars, 1Darrays, 2D arrays and higher dimensions automatically.\n",
    "There are several types of ufuncs:"
   ]
  },
  {
   "cell_type": "code",
   "execution_count": 5,
   "id": "01b42669",
   "metadata": {},
   "outputs": [
    {
     "name": "stdout",
     "output_type": "stream",
     "text": [
      "[1.         1.41421356 1.73205081 2.        ]\n",
      "[ 2.71828183  7.3890561  20.08553692 54.59815003]\n",
      "[ 0.84147098  0.90929743  0.14112001 -0.7568025 ]\n",
      "[1 2 3]\n"
     ]
    }
   ],
   "source": [
    "# Unary ufuncs\n",
    "\n",
    "import numpy as np\n",
    "\n",
    "x= np.array([1, 2, 3, 4])\n",
    "print(np.sqrt(x))\n",
    "print(np.exp(x))\n",
    "print(np.sin(x))\n",
    "print(np.abs([-1, -2, 3]))"
   ]
  },
  {
   "cell_type": "code",
   "execution_count": 3,
   "id": "b2c7e4f9",
   "metadata": {},
   "outputs": [
    {
     "name": "stdout",
     "output_type": "stream",
     "text": [
      "[5 7 9]\n",
      "[-3 -3 -3]\n",
      "[ 4 10 18]\n",
      "[0.25 0.4  0.5 ]\n",
      "[1 4 9]\n"
     ]
    }
   ],
   "source": [
    "# Binary ufuncs\n",
    "a =  np.array([1, 2, 3])\n",
    "b = np.array([4, 5, 6])\n",
    "\n",
    "print(np.add(a,b))\n",
    "print(np.subtract(a,b))\n",
    "print(np.multiply(a,b))\n",
    "print(np.divide(a,b))\n",
    "print(np.power(a,2))"
   ]
  },
  {
   "cell_type": "markdown",
   "id": "6a1af655",
   "metadata": {},
   "source": [
    "# Advantages of ufuncs\n",
    "Speed: Avoids python loops, executes at C-speed\n",
    "Broadcasting: Automatically applies operations on arrays of different shapes.\n",
    "Flexibility: Many ufuncs allow specifying out arrays and where conditions"
   ]
  },
  {
   "cell_type": "markdown",
   "id": "bb64d3be",
   "metadata": {},
   "source": [
    "# Triginometric Ufuncs\n"
   ]
  },
  {
   "cell_type": "code",
   "execution_count": 9,
   "id": "b2c9049c",
   "metadata": {},
   "outputs": [
    {
     "name": "stdout",
     "output_type": "stream",
     "text": [
      "[0.0000000e+00 1.0000000e+00 1.2246468e-16]\n",
      "[ 1.000000e+00  6.123234e-17 -1.000000e+00]\n",
      "[ 0.00000000e+00  1.63312394e+16 -1.22464680e-16]\n"
     ]
    }
   ],
   "source": [
    "Beta = np.array([0, np.pi/2, np.pi])\n",
    "print(np.sin(Beta))\n",
    "print(np.cos(Beta))\n",
    "print(np.tan(Beta))\n"
   ]
  },
  {
   "cell_type": "markdown",
   "id": "926d091a",
   "metadata": {},
   "source": [
    "# Logarithms and Exponential ufuncs"
   ]
  },
  {
   "cell_type": "code",
   "execution_count": 14,
   "id": "7edcc35a",
   "metadata": {},
   "outputs": [
    {
     "name": "stdout",
     "output_type": "stream",
     "text": [
      "[0.         0.69314718 1.09861229 1.38629436 1.60943791]\n",
      "[0.         1.         1.5849625  2.         2.32192809]\n",
      "[ 2.  4.  8. 16. 32.]\n"
     ]
    }
   ],
   "source": [
    "x = np.array([1, 2, 3, 4, 5])\n",
    "print(np.log(x))\n",
    "print(np.log2(x))\n",
    "print(np.exp2(x))\n"
   ]
  },
  {
   "cell_type": "markdown",
   "id": "f87ac00f",
   "metadata": {},
   "source": [
    "# Advanced Ufuncs\n"
   ]
  },
  {
   "cell_type": "code",
   "execution_count": null,
   "id": "ca560028",
   "metadata": {},
   "outputs": [
    {
     "name": "stdout",
     "output_type": "stream",
     "text": [
      "[0 1 2 3 4]\n",
      "[ 1.  0.  2.  0.  4.  0.  8.  0. 16.  0.]\n"
     ]
    }
   ],
   "source": [
    "#The out argument prints the output array in another array\n",
    "A = np.arange(5)\n",
    "B = np.zeros(10)\n",
    "\n",
    "print(A)\n",
    "np.power(2, A, out=B[: : 2])\n",
    "print(B)"
   ]
  },
  {
   "cell_type": "markdown",
   "id": "e46ec850",
   "metadata": {},
   "source": [
    "# Other Ufuncs"
   ]
  },
  {
   "cell_type": "code",
   "execution_count": 30,
   "id": "10a29870",
   "metadata": {},
   "outputs": [
    {
     "name": "stdout",
     "output_type": "stream",
     "text": [
      "[[ 1  2  3  4  5]\n",
      " [ 2  4  6  8 10]\n",
      " [ 3  6  9 12 15]\n",
      " [ 4  8 12 16 20]\n",
      " [ 5 10 15 20 25]]\n"
     ]
    }
   ],
   "source": [
    "x = np.arange(1, 6)\n",
    "Multiplication_table = np.multiply.outer(x, x)\n",
    "print(Multiplication_table)"
   ]
  }
 ],
 "metadata": {
  "kernelspec": {
   "display_name": "venv",
   "language": "python",
   "name": "python3"
  },
  "language_info": {
   "codemirror_mode": {
    "name": "ipython",
    "version": 3
   },
   "file_extension": ".py",
   "mimetype": "text/x-python",
   "name": "python",
   "nbconvert_exporter": "python",
   "pygments_lexer": "ipython3",
   "version": "3.13.7"
  }
 },
 "nbformat": 4,
 "nbformat_minor": 5
}
