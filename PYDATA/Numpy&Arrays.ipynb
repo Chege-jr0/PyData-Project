{
 "cells": [
  {
   "cell_type": "markdown",
   "id": "5f9e288e",
   "metadata": {},
   "source": [
    "## Importing Libraries"
   ]
  },
  {
   "cell_type": "code",
   "execution_count": 38,
   "id": "ea38c5ef",
   "metadata": {},
   "outputs": [],
   "source": [
    "import numpy as np\n",
    "from matplotlib import pyplot as plt"
   ]
  },
  {
   "cell_type": "markdown",
   "id": "c9f00469",
   "metadata": {},
   "source": [
    "## Creating Numpy Arrays in Python"
   ]
  },
  {
   "cell_type": "markdown",
   "id": "5df5a4fe",
   "metadata": {},
   "source": [
    "Create a 1D Array"
   ]
  },
  {
   "cell_type": "code",
   "execution_count": 2,
   "id": "1b2a4f91",
   "metadata": {},
   "outputs": [
    {
     "name": "stdout",
     "output_type": "stream",
     "text": [
      "[150 160 110 180 130 160 250 160]\n",
      "<class 'numpy.ndarray'>\n"
     ]
    }
   ],
   "source": [
    "#You can create a Numpy Array from a Python List\n",
    "student_fare_prices_to_zindua = [150, 160, 110, 180, 130, 160, 250, 160]\n",
    "\n",
    "student_fares_array = np.array(student_fare_prices_to_zindua)\n",
    "\n",
    "print(student_fares_array)\n",
    "print(type(student_fares_array))"
   ]
  },
  {
   "cell_type": "code",
   "execution_count": 3,
   "id": "50ac11d5",
   "metadata": {},
   "outputs": [
    {
     "name": "stdout",
     "output_type": "stream",
     "text": [
      "[150, 160, 110, 180, 130, 160, 250, 160]\n",
      "<class 'list'>\n"
     ]
    }
   ],
   "source": [
    "print(student_fare_prices_to_zindua)\n",
    "print(type(student_fare_prices_to_zindua))"
   ]
  },
  {
   "cell_type": "markdown",
   "id": "dad9c32b",
   "metadata": {},
   "source": [
    "Creating a 2D Numpy Array"
   ]
  },
  {
   "cell_type": "code",
   "execution_count": 4,
   "id": "cba637f3",
   "metadata": {},
   "outputs": [
    {
     "name": "stdout",
     "output_type": "stream",
     "text": [
      "[[20, 25, 30], [40, 50, 60]]\n",
      "<class 'numpy.ndarray'>\n"
     ]
    }
   ],
   "source": [
    "combined_student_fares = [[20,25,30],\n",
    "                           [40,50,60]]\n",
    "roundtrip_fare_array = np.array(combined_student_fares)\n",
    "\n",
    "print(combined_student_fares)\n",
    "\n",
    "print(type(roundtrip_fare_array))"
   ]
  },
  {
   "cell_type": "markdown",
   "id": "4b4807b8",
   "metadata": {},
   "source": [
    "Creating a 3D Numpy Array"
   ]
  },
  {
   "cell_type": "code",
   "execution_count": 5,
   "id": "5f70ca51",
   "metadata": {},
   "outputs": [
    {
     "name": "stdout",
     "output_type": "stream",
     "text": [
      "<class 'numpy.ndarray'>\n",
      "[[[20 25 30]\n",
      "  [40 50 60]]\n",
      "\n",
      " [[20 25 30]\n",
      "  [40 50 60]]\n",
      "\n",
      " [[20 25 30]\n",
      "  [40 50 60]]]\n"
     ]
    }
   ],
   "source": [
    "round_trip_student_fare1 = np.array([[20,25,30], [40,50,60]])\n",
    "round_trip_student_fare2 =np.array([[20,25,30], [40,50,60]]) \n",
    "round_trip_student_fare3 =np.array([[20,25,30], [40,50,60]]) \n",
    "\n",
    "round_trip_3d_array = np.array([round_trip_student_fare1, round_trip_student_fare2, round_trip_student_fare3])\n",
    "\n",
    "print(type(round_trip_3d_array))\n",
    "print(round_trip_3d_array)\n",
    "\n",
    "\n",
    "\n",
    "                   \n",
    "\n"
   ]
  },
  {
   "cell_type": "markdown",
   "id": "add109b9",
   "metadata": {},
   "source": [
    "## Creating Arrys from Scratch"
   ]
  },
  {
   "cell_type": "markdown",
   "id": "a929deb8",
   "metadata": {},
   "source": [
    "- There are many Numpy Functions used to create arrays from scratch, including:\n",
    "   -'np.zeros()'\n",
    "   -'np.random().random()'\n",
    "   -'np.arange()'"
   ]
  },
  {
   "cell_type": "markdown",
   "id": "7285d36f",
   "metadata": {},
   "source": [
    "# Creating Arrays : np.zeros()"
   ]
  },
  {
   "cell_type": "code",
   "execution_count": 6,
   "id": "0b7f030b",
   "metadata": {},
   "outputs": [
    {
     "data": {
      "text/plain": [
       "array([[0, 0, 0],\n",
       "       [0, 0, 0],\n",
       "       [0, 0, 0],\n",
       "       [0, 0, 0],\n",
       "       [0, 0, 0]])"
      ]
     },
     "execution_count": 6,
     "metadata": {},
     "output_type": "execute_result"
    }
   ],
   "source": [
    "np.zeros((5,3), dtype = int)"
   ]
  },
  {
   "cell_type": "markdown",
   "id": "fb611157",
   "metadata": {},
   "source": [
    "# Creating Arrays: np.random.random()"
   ]
  },
  {
   "cell_type": "code",
   "execution_count": 7,
   "id": "53a9b260",
   "metadata": {},
   "outputs": [
    {
     "data": {
      "text/plain": [
       "array([[0.97817072, 0.86742386, 0.18797028, 0.63974237],\n",
       "       [0.46960578, 0.43871647, 0.66346606, 0.20202836]])"
      ]
     },
     "execution_count": 7,
     "metadata": {},
     "output_type": "execute_result"
    }
   ],
   "source": [
    "np.random.random((2,4)) # 2 rows and 4 columns of random numbers between o and 1"
   ]
  },
  {
   "cell_type": "markdown",
   "id": "22e6ec35",
   "metadata": {},
   "source": [
    "# Creating Arrays: np.arange()"
   ]
  },
  {
   "cell_type": "code",
   "execution_count": 8,
   "id": "7d0611e6",
   "metadata": {},
   "outputs": [
    {
     "data": {
      "text/plain": [
       "array([ 0,  1,  2,  3,  4,  5,  6,  7,  8,  9, 10, 11, 12, 13, 14, 15, 16,\n",
       "       17, 18, 19, 20, 21, 22, 23, 24, 25, 26, 27, 28, 29, 30, 31, 32, 33,\n",
       "       34, 35, 36, 37, 38, 39, 40, 41, 42, 43, 44, 45, 46, 47, 48, 49, 50,\n",
       "       51, 52, 53, 54, 55, 56, 57, 58, 59, 60, 61, 62, 63, 64, 65, 66, 67,\n",
       "       68, 69, 70, 71, 72, 73, 74, 75, 76, 77, 78, 79, 80, 81, 82, 83, 84,\n",
       "       85, 86, 87, 88, 89, 90, 91, 92, 93, 94, 95, 96, 97, 98, 99])"
      ]
     },
     "execution_count": 8,
     "metadata": {},
     "output_type": "execute_result"
    }
   ],
   "source": [
    "np.arange(100)"
   ]
  },
  {
   "cell_type": "code",
   "execution_count": 9,
   "id": "17d1ab9a",
   "metadata": {},
   "outputs": [
    {
     "data": {
      "text/plain": [
       "array([-3])"
      ]
     },
     "execution_count": 9,
     "metadata": {},
     "output_type": "execute_result"
    }
   ],
   "source": [
    "np.arange(-3, 0, 3)"
   ]
  },
  {
   "cell_type": "markdown",
   "id": "a031b43c",
   "metadata": {},
   "source": [
    "## ShapeShifting\n",
    "# Finding an array's Shape\n"
   ]
  },
  {
   "cell_type": "code",
   "execution_count": 10,
   "id": "4caa390f",
   "metadata": {},
   "outputs": [
    {
     "name": "stdout",
     "output_type": "stream",
     "text": [
      "[[0. 0. 0. 0. 0.]\n",
      " [0. 0. 0. 0. 0.]\n",
      " [0. 0. 0. 0. 0.]]\n"
     ]
    },
    {
     "data": {
      "text/plain": [
       "(3, 5)"
      ]
     },
     "execution_count": 10,
     "metadata": {},
     "output_type": "execute_result"
    }
   ],
   "source": [
    "zeros_array = np.zeros((3,5))\n",
    "print(zeros_array)\n",
    "zeros_array.shape"
   ]
  },
  {
   "cell_type": "markdown",
   "id": "a6d026b7",
   "metadata": {},
   "source": [
    "## Rows and Columns \n",
    "#  In 2d Array:\n",
    "   Rows are the fisrt Dimension\n",
    "   Columns are the second dimension"
   ]
  },
  {
   "cell_type": "markdown",
   "id": "dfa12efe",
   "metadata": {},
   "source": [
    "## Flattening an Array\n",
    " - This is just converting an array to be a 3D array."
   ]
  },
  {
   "cell_type": "code",
   "execution_count": 11,
   "id": "feff68a6",
   "metadata": {},
   "outputs": [
    {
     "name": "stdout",
     "output_type": "stream",
     "text": [
      "[[1 2]\n",
      " [4 5]\n",
      " [6 7]]\n"
     ]
    }
   ],
   "source": [
    "twoD_array = np.array([[1,2],[4,5],[6,7]])\n",
    "print(twoD_array)"
   ]
  },
  {
   "cell_type": "code",
   "execution_count": 12,
   "id": "75619901",
   "metadata": {},
   "outputs": [
    {
     "data": {
      "text/plain": [
       "(3, 2)"
      ]
     },
     "execution_count": 12,
     "metadata": {},
     "output_type": "execute_result"
    }
   ],
   "source": [
    "twoD_array.shape"
   ]
  },
  {
   "cell_type": "code",
   "execution_count": 13,
   "id": "b9fa4714",
   "metadata": {},
   "outputs": [
    {
     "name": "stdout",
     "output_type": "stream",
     "text": [
      "[1 2 4 5 6 7]\n"
     ]
    }
   ],
   "source": [
    "flattened_twoD_array = twoD_array.flatten()\n",
    "print(flattened_twoD_array)"
   ]
  },
  {
   "cell_type": "code",
   "execution_count": 14,
   "id": "19623a64",
   "metadata": {},
   "outputs": [
    {
     "data": {
      "text/plain": [
       "(6,)"
      ]
     },
     "execution_count": 14,
     "metadata": {},
     "output_type": "execute_result"
    }
   ],
   "source": [
    "flattened_twoD_array.shape"
   ]
  },
  {
   "cell_type": "markdown",
   "id": "fb47f3f4",
   "metadata": {},
   "source": [
    "# Reshaping an array"
   ]
  },
  {
   "cell_type": "code",
   "execution_count": 15,
   "id": "a5cd761b",
   "metadata": {},
   "outputs": [
    {
     "name": "stdout",
     "output_type": "stream",
     "text": [
      "[[1 2]\n",
      " [4 5]\n",
      " [6 7]]\n"
     ]
    }
   ],
   "source": [
    "twoD_array_one = np.array([[1,2],[4,5],[6,7]])\n",
    "print(twoD_array_one)"
   ]
  },
  {
   "cell_type": "code",
   "execution_count": 16,
   "id": "7389bae7",
   "metadata": {},
   "outputs": [
    {
     "data": {
      "text/plain": [
       "(3, 2)"
      ]
     },
     "execution_count": 16,
     "metadata": {},
     "output_type": "execute_result"
    }
   ],
   "source": [
    "twoD_array_one.shape"
   ]
  },
  {
   "cell_type": "code",
   "execution_count": 17,
   "id": "ea198590",
   "metadata": {},
   "outputs": [
    {
     "name": "stdout",
     "output_type": "stream",
     "text": [
      "[[1 2 4]\n",
      " [5 6 7]]\n"
     ]
    }
   ],
   "source": [
    "reshaped_array = twoD_array_one.reshape(2,3)\n",
    "print(reshaped_array)"
   ]
  },
  {
   "cell_type": "code",
   "execution_count": 18,
   "id": "b03ccdfb",
   "metadata": {},
   "outputs": [
    {
     "data": {
      "text/plain": [
       "(2, 3)"
      ]
     },
     "execution_count": 18,
     "metadata": {},
     "output_type": "execute_result"
    }
   ],
   "source": [
    "reshaped_array.shape"
   ]
  },
  {
   "cell_type": "markdown",
   "id": "e436604a",
   "metadata": {},
   "source": [
    "# Rules During Reshaping"
   ]
  },
  {
   "cell_type": "code",
   "execution_count": 19,
   "id": "10c4ac5b",
   "metadata": {},
   "outputs": [
    {
     "name": "stdout",
     "output_type": "stream",
     "text": [
      "[[1 2 4 5 6 7]]\n"
     ]
    }
   ],
   "source": [
    "reshaped_array_error = twoD_array_one.reshape(1,6)\n",
    "print(reshaped_array_error)"
   ]
  },
  {
   "cell_type": "markdown",
   "id": "d8d0b730",
   "metadata": {},
   "source": [
    "## Indexing and Slicing of Arrays"
   ]
  },
  {
   "cell_type": "code",
   "execution_count": 20,
   "id": "5a9b301d",
   "metadata": {},
   "outputs": [
    {
     "name": "stdout",
     "output_type": "stream",
     "text": [
      "[[ 9 10 11 12  8]\n",
      " [ 6  7  8  9  4]\n",
      " [ 3  2  1  0  1]]\n",
      "9\n",
      "[12  9  0]\n",
      "[6 7 8 9 4]\n"
     ]
    }
   ],
   "source": [
    "sodoku_game = np.array([[9,10,11,12,8],\n",
    "                        [6,7,8,9,4],\n",
    "                        [3,2,1,0,1]])\n",
    "print(sodoku_game)\n",
    "\n",
    "#Indexing row 1 and row 2\n",
    "indexing_array = sodoku_game[1,3]\n",
    "print(indexing_array)\n",
    "\n",
    "#Indexing a single column in a 2D array\n",
    "print_column_array = sodoku_game[:, 3]\n",
    "print(print_column_array)\n",
    "\n",
    "#Indexing a single row in a 2D array\n",
    "print_row_array = sodoku_game[1]\n",
    "print(print_row_array)"
   ]
  },
  {
   "cell_type": "markdown",
   "id": "cf5bc1f6",
   "metadata": {},
   "source": [
    "## Slicing Element in an Array"
   ]
  },
  {
   "cell_type": "code",
   "execution_count": 21,
   "id": "75ace6f8",
   "metadata": {},
   "outputs": [
    {
     "name": "stdout",
     "output_type": "stream",
     "text": [
      "[6 8]\n"
     ]
    }
   ],
   "source": [
    "#Slicing a 1D Arrays\n",
    "OneD_Array_Two = np.array([2,4,6,8,10])\n",
    "\n",
    "print(OneD_Array_Two[2:4])"
   ]
  },
  {
   "cell_type": "code",
   "execution_count": 22,
   "id": "bf390654",
   "metadata": {},
   "outputs": [
    {
     "name": "stdout",
     "output_type": "stream",
     "text": [
      "[[ 9 10 11 12  8]\n",
      " [ 6  7  8  9  4]\n",
      " [ 3  2  1  0  1]]\n",
      "[[8 9]\n",
      " [1 0]]\n"
     ]
    }
   ],
   "source": [
    "#Slicing 2D Arrays\n",
    "my_sodoku_game_two = np.array([[9,10,11,12,8],\n",
    "                                [6,7,8,9,4],\n",
    "                                  [3,2,1,0,1]])\n",
    "\n",
    "print(my_sodoku_game_two)\n",
    "\n",
    "print(my_sodoku_game_two[1:3,2:4])"
   ]
  },
  {
   "cell_type": "code",
   "execution_count": 23,
   "id": "c742f561",
   "metadata": {},
   "outputs": [
    {
     "name": "stdout",
     "output_type": "stream",
     "text": [
      "[[7 9]\n",
      " [2 0]]\n"
     ]
    }
   ],
   "source": [
    "#Slicing with a Step Size\n",
    "print(my_sodoku_game_two[1:3, 1:4:2])"
   ]
  },
  {
   "cell_type": "markdown",
   "id": "1b106f18",
   "metadata": {},
   "source": [
    "# Creating copies of Arrays"
   ]
  },
  {
   "cell_type": "code",
   "execution_count": 24,
   "id": "03b37a82",
   "metadata": {},
   "outputs": [
    {
     "name": "stdout",
     "output_type": "stream",
     "text": [
      "[[99 55  2  4]\n",
      " [ 7  6  8  8]\n",
      " [ 1  6  7  7]]\n",
      "[[99 55]\n",
      " [ 7  6]]\n"
     ]
    }
   ],
   "source": [
    "array = np.array([[99, 55, 2, 4],\n",
    "                  [7, 6, 8, 8],\n",
    "                  [1, 6, 7, 7]])\n",
    "\n",
    "print(array)\n",
    "#copy() just creates another array\n",
    "x2_sub_copy = array[:2, :2].copy()\n",
    "print(x2_sub_copy)"
   ]
  },
  {
   "cell_type": "code",
   "execution_count": 25,
   "id": "8ebc0d1e",
   "metadata": {},
   "outputs": [
    {
     "name": "stdout",
     "output_type": "stream",
     "text": [
      "[[42 55]\n",
      " [ 7  6]]\n"
     ]
    }
   ],
   "source": [
    "#If we now modify this subarray, the original array is not touched\n",
    "#You can modify the array by replacing the value \n",
    "x2_sub_copy[0, 0] = 42\n",
    "print(x2_sub_copy)"
   ]
  },
  {
   "cell_type": "markdown",
   "id": "49af7800",
   "metadata": {},
   "source": [
    "## Array Concatenation and Splitting\n",
    "It is also possible to concatenate and split arrays"
   ]
  },
  {
   "cell_type": "code",
   "execution_count": 26,
   "id": "69023322",
   "metadata": {},
   "outputs": [
    {
     "data": {
      "text/plain": [
       "array([1, 2, 3, 4, 5, 6, 7, 8, 9])"
      ]
     },
     "execution_count": 26,
     "metadata": {},
     "output_type": "execute_result"
    }
   ],
   "source": [
    "x = np.array([1, 2, 3])\n",
    "y = np.array([4, 5, 6])\n",
    "z = np.array([7, 8, 9])\n",
    "np.concatenate([x,y,z])"
   ]
  },
  {
   "cell_type": "code",
   "execution_count": 27,
   "id": "b9e7c3df",
   "metadata": {},
   "outputs": [
    {
     "data": {
      "text/plain": [
       "array([[1, 2, 3],\n",
       "       [4, 5, 6],\n",
       "       [1, 2, 3],\n",
       "       [4, 5, 6]])"
      ]
     },
     "execution_count": 27,
     "metadata": {},
     "output_type": "execute_result"
    }
   ],
   "source": [
    "grid = np.array([[1, 2, 3],\n",
    "                 [4, 5, 6]])\n",
    "\n",
    "np.concatenate([grid, grid])"
   ]
  },
  {
   "cell_type": "code",
   "execution_count": 28,
   "id": "d5d13310",
   "metadata": {},
   "outputs": [
    {
     "data": {
      "text/plain": [
       "array([[1, 2, 3, 1, 2, 3],\n",
       "       [4, 5, 6, 4, 5, 6]])"
      ]
     },
     "execution_count": 28,
     "metadata": {},
     "output_type": "execute_result"
    }
   ],
   "source": [
    "#Concatenate along the second axis(zero indexed)\n",
    "#when axis = 1 is known as horizontal stacking\n",
    "np.concatenate([grid, grid], axis=1)\n",
    "\n",
    "#when axis = 0 its known as vertical satacking\n"
   ]
  },
  {
   "cell_type": "code",
   "execution_count": 29,
   "id": "14194c9c",
   "metadata": {},
   "outputs": [
    {
     "data": {
      "text/plain": [
       "array([[1, 2, 3],\n",
       "       [9, 8, 7],\n",
       "       [6, 5, 4]])"
      ]
     },
     "execution_count": 29,
     "metadata": {},
     "output_type": "execute_result"
    }
   ],
   "source": [
    "#When working with arrays of mixed dimensions, it can be clear to use the np.vstack(vertical stack) and np.hpstack(horizontal stack)\n",
    "\n",
    "x= np.array([1, 2, 3])\n",
    "grid = np.array([[9, 8, 7],\n",
    "                 [6, 5, 4]])\n",
    "\n",
    "np.vstack([x, grid])\n"
   ]
  },
  {
   "cell_type": "code",
   "execution_count": 30,
   "id": "5e0be32e",
   "metadata": {},
   "outputs": [
    {
     "data": {
      "text/plain": [
       "array([[ 4, 12,  3,  6],\n",
       "       [ 7, 34, 56, 78]])"
      ]
     },
     "execution_count": 30,
     "metadata": {},
     "output_type": "execute_result"
    }
   ],
   "source": [
    "#Stacking rule, the number of rows must match especially when doing it horizontally\n",
    "y = np.array([[4],\n",
    "               [7]])\n",
    "grid1 = np.array([[12, 3, 6],\n",
    "                 [34, 56, 78]\n",
    "                 ])\n",
    "\n",
    "np.hstack([y, grid1])\n"
   ]
  },
  {
   "cell_type": "markdown",
   "id": "ff1c6b23",
   "metadata": {},
   "source": [
    "## Splitting of Arrays \n",
    "The opposite of concetenation is splitting which is implemented by np.split, np.hsplit and np.vpsplit"
   ]
  },
  {
   "cell_type": "code",
   "execution_count": 31,
   "id": "9e5d6b3c",
   "metadata": {},
   "outputs": [
    {
     "name": "stdout",
     "output_type": "stream",
     "text": [
      "[1 2 3] [99 99] [3 2 1]\n"
     ]
    }
   ],
   "source": [
    "x = [1, 2, 3, 99, 99, 3, 2, 1]\n",
    "x1, x2, x3 =  np.split(x, [3, 5])\n",
    "print( x1, x2, x3)"
   ]
  },
  {
   "cell_type": "code",
   "execution_count": 32,
   "id": "d53ab441",
   "metadata": {},
   "outputs": [
    {
     "data": {
      "text/plain": [
       "array([[ 0,  1,  2,  3],\n",
       "       [ 4,  5,  6,  7],\n",
       "       [ 8,  9, 10, 11],\n",
       "       [12, 13, 14, 15]])"
      ]
     },
     "execution_count": 32,
     "metadata": {},
     "output_type": "execute_result"
    }
   ],
   "source": [
    "# N splits-points leads to N+1 subarrays. The related functions np.hspliy and np.vsplit are similar to the ones we talked about above\n",
    "grid = np.arange(16).reshape((4,4))\n",
    "grid"
   ]
  },
  {
   "cell_type": "code",
   "execution_count": 33,
   "id": "ab15663d",
   "metadata": {},
   "outputs": [
    {
     "name": "stdout",
     "output_type": "stream",
     "text": [
      "[[0 1 2 3]\n",
      " [4 5 6 7]]\n",
      "[[ 8  9 10 11]\n",
      " [12 13 14 15]]\n"
     ]
    }
   ],
   "source": [
    "#The vsplit splits the array to the upper part and to the lower part with an axis = 2\n",
    "upper, lower = np.vsplit(grid, [2])\n",
    "print(upper)\n",
    "print(lower)"
   ]
  },
  {
   "cell_type": "code",
   "execution_count": 34,
   "id": "683ccfe8",
   "metadata": {},
   "outputs": [
    {
     "name": "stdout",
     "output_type": "stream",
     "text": [
      "[[ 0  1]\n",
      " [ 4  5]\n",
      " [ 8  9]\n",
      " [12 13]]\n",
      "[[ 2  3]\n",
      " [ 6  7]\n",
      " [10 11]\n",
      " [14 15]]\n"
     ]
    }
   ],
   "source": [
    "#The hsplit splits the array to the left and to the right part with an axis\n",
    "left, right = np.hsplit(grid, [2])\n",
    "print(left)\n",
    "print(right)"
   ]
  },
  {
   "cell_type": "markdown",
   "id": "fc4f10e5",
   "metadata": {},
   "source": [
    "## Filtering Arrays\n",
    "There are two ways to filter arrays\n",
    "\n",
    "1. Masks and Fancy Indexing.\n",
    "2. Using np.where()"
   ]
  },
  {
   "cell_type": "code",
   "execution_count": 35,
   "id": "450eb104",
   "metadata": {},
   "outputs": [
    {
     "data": {
      "text/plain": [
       "array([ 1,  2,  3,  4,  5,  6,  7,  8,  9, 10])"
      ]
     },
     "execution_count": 35,
     "metadata": {},
     "output_type": "execute_result"
    }
   ],
   "source": [
    "# Boolean Masks\n",
    "one_to_five =  np.arange(1,11)\n",
    "one_to_five\n",
    "\n"
   ]
  },
  {
   "cell_type": "code",
   "execution_count": 36,
   "id": "098ea7e3",
   "metadata": {},
   "outputs": [
    {
     "data": {
      "text/plain": [
       "array([False,  True, False,  True, False,  True, False,  True, False,\n",
       "        True])"
      ]
     },
     "execution_count": 36,
     "metadata": {},
     "output_type": "execute_result"
    }
   ],
   "source": [
    "#Defining my mask\n",
    "\n",
    "mask = one_to_five % 2 == 0\n",
    "mask"
   ]
  },
  {
   "cell_type": "markdown",
   "id": "cf16b1c7",
   "metadata": {},
   "source": [
    "Filtering with Fancy Indexing"
   ]
  },
  {
   "cell_type": "code",
   "execution_count": 37,
   "id": "b0300921",
   "metadata": {},
   "outputs": [
    {
     "name": "stdout",
     "output_type": "stream",
     "text": [
      "[ 1  2  3  4  5  6  7  8  9 10 11 12 13 14 15 16 17 18 19 20]\n"
     ]
    },
    {
     "ename": "IndexError",
     "evalue": "boolean index did not match indexed array along axis 0; size of axis is 20 but size of corresponding boolean axis is 10",
     "output_type": "error",
     "traceback": [
      "\u001b[31m---------------------------------------------------------------------------\u001b[39m",
      "\u001b[31mIndexError\u001b[39m                                Traceback (most recent call last)",
      "\u001b[36mCell\u001b[39m\u001b[36m \u001b[39m\u001b[32mIn[37]\u001b[39m\u001b[32m, line 6\u001b[39m\n\u001b[32m      3\u001b[39m \u001b[38;5;28mprint\u001b[39m(one_to_twenty)\n\u001b[32m      5\u001b[39m mask1 = one_to_twenty % \u001b[32m5\u001b[39m == \u001b[32m0\u001b[39m\n\u001b[32m----> \u001b[39m\u001b[32m6\u001b[39m \u001b[43mone_to_twenty\u001b[49m\u001b[43m[\u001b[49m\u001b[43mmask\u001b[49m\u001b[43m]\u001b[49m\n",
      "\u001b[31mIndexError\u001b[39m: boolean index did not match indexed array along axis 0; size of axis is 20 but size of corresponding boolean axis is 10"
     ]
    }
   ],
   "source": [
    "#Fancy Indexing\n",
    "one_to_twenty = np.arange(1,21)\n",
    "print(one_to_twenty)\n",
    "\n",
    "mask1 = one_to_twenty % 5 == 0\n",
    "one_to_twenty[mask]"
   ]
  },
  {
   "cell_type": "markdown",
   "id": "0c3791ae",
   "metadata": {},
   "source": [
    "# 2D Fancy Indexing"
   ]
  },
  {
   "cell_type": "code",
   "execution_count": null,
   "id": "e9664a9f",
   "metadata": {},
   "outputs": [],
   "source": [
    "class_cohort_and_num_of_students = np.array([[25,9], [24, 5],[23, 6], [22, 15]])\n",
    "class_cohort_and_num_of_students"
   ]
  },
  {
   "cell_type": "code",
   "execution_count": null,
   "id": "9167d536",
   "metadata": {},
   "outputs": [],
   "source": [
    "mask = class_cohort_and_num_of_students[:, 1] > 7\n",
    "print(mask)\n",
    "class_cohort_and_num_of_students[mask]"
   ]
  },
  {
   "cell_type": "markdown",
   "id": "10d8b103",
   "metadata": {},
   "source": [
    "# Filtering using the np.where()"
   ]
  },
  {
   "cell_type": "code",
   "execution_count": null,
   "id": "7a797c26",
   "metadata": {},
   "outputs": [],
   "source": [
    "np.where(class_cohort_and_num_of_students[:, 1] < 10)\n"
   ]
  },
  {
   "cell_type": "code",
   "execution_count": null,
   "id": "df2eaf70",
   "metadata": {},
   "outputs": [],
   "source": [
    "#Using the 'np.where()' find all elements equals 5 and replace with 6\n",
    "np.where(one_to_twenty == 5, 6, one_to_twenty)"
   ]
  },
  {
   "cell_type": "code",
   "execution_count": null,
   "id": "bfd570f4",
   "metadata": {},
   "outputs": [],
   "source": [
    "#Using the 'np.where()' in a 2d array find all elements equals 5 and replace it with 6\n",
    "np.where(class_cohort_and_num_of_students == 5, 6, class_cohort_and_num_of_students)"
   ]
  },
  {
   "cell_type": "markdown",
   "id": "91d4d4f3",
   "metadata": {},
   "source": [
    "## Adding and Removing Data "
   ]
  },
  {
   "cell_type": "code",
   "execution_count": null,
   "id": "aa100939",
   "metadata": {},
   "outputs": [],
   "source": [
    "new_cohort = np.array([[26, 11], [27,13]])"
   ]
  },
  {
   "cell_type": "markdown",
   "id": "a1c54e79",
   "metadata": {},
   "source": [
    "## Using 'np.arange' with 'matplotlib' in coming up with visualization or defining the visualization "
   ]
  },
  {
   "cell_type": "code",
   "execution_count": null,
   "id": "55b4e6f3",
   "metadata": {},
   "outputs": [],
   "source": [
    "plt.scatter(np.arange(0,7),\n",
    "            np.arange(-3,4))\n",
    "\n",
    "plt.show()"
   ]
  },
  {
   "cell_type": "markdown",
   "id": "95fa9792",
   "metadata": {},
   "source": []
  }
 ],
 "metadata": {
  "kernelspec": {
   "display_name": "venv",
   "language": "python",
   "name": "python3"
  },
  "language_info": {
   "codemirror_mode": {
    "name": "ipython",
    "version": 3
   },
   "file_extension": ".py",
   "mimetype": "text/x-python",
   "name": "python",
   "nbconvert_exporter": "python",
   "pygments_lexer": "ipython3",
   "version": "3.13.7"
  }
 },
 "nbformat": 4,
 "nbformat_minor": 5
}
