{
 "cells": [
  {
   "cell_type": "markdown",
   "id": "13c56b8f",
   "metadata": {},
   "source": [
    "## Aggregations\n",
    "Aggreagtions just means summarizing values in your array into a single result -- like sums, means, counts, min, max. Its Numpy equivalent of statistics"
   ]
  },
  {
   "cell_type": "code",
   "execution_count": null,
   "id": "4ce559e5",
   "metadata": {},
   "outputs": [
    {
     "name": "stdout",
     "output_type": "stream",
     "text": [
      "21\n",
      "1\n",
      "6\n",
      "3.5\n",
      "1.707825127659933\n",
      "2.9166666666666665\n"
     ]
    }
   ],
   "source": [
    "import numpy as np\n",
    "\n",
    "data = np.array([1, 2, 3, 4, 5, 6])\n",
    "\n",
    "#print(np.sum(data))\n",
    "print(data.sum())\n",
    "\n",
    "#print(np.min(data))\n",
    "print(data.min())\n",
    "\n",
    "#print(np.max(data))\n",
    "print(data.max())\n",
    "\n",
    "#print(np.mean(data))\n",
    "print(data.mean())\n",
    "\n",
    "#print(np.std(data))\n",
    "print(data.std())\n",
    "\n",
    "#print(np.var(data))\n",
    "print(data.var())\n"
   ]
  },
  {
   "cell_type": "code",
   "execution_count": 36,
   "id": "73354435",
   "metadata": {},
   "outputs": [
    {
     "name": "stdout",
     "output_type": "stream",
     "text": [
      "[ 1  3  6 10 15 21]\n",
      "[  1   2   6  24 120 720]\n"
     ]
    }
   ],
   "source": [
    "print(np.cumsum(data))\n",
    "print(np.cumprod(data))"
   ]
  },
  {
   "cell_type": "markdown",
   "id": "86fcd43b",
   "metadata": {},
   "source": [
    "## Aggregation on 2D Arrays"
   ]
  },
  {
   "cell_type": "code",
   "execution_count": 37,
   "id": "7c0f6ae2",
   "metadata": {},
   "outputs": [
    {
     "name": "stdout",
     "output_type": "stream",
     "text": [
      "21\n",
      "[ 6 15]\n",
      "[5 7 9]\n"
     ]
    }
   ],
   "source": [
    "twoD_Array = np.array([[1,2,3],\n",
    "                            [4,5,6]])\n",
    "\n",
    "print(np.sum(twoD_Array))   \n",
    "\n",
    "# Sum along rows Axis=1\n",
    "\n",
    "print(np.sum(twoD_Array, axis=1))\n",
    "\n",
    "#Sum along columns Axis=0\n",
    "\n",
    "print(np.sum(twoD_Array, axis =0))"
   ]
  },
  {
   "cell_type": "markdown",
   "id": "94d4ec58",
   "metadata": {},
   "source": [
    "## Aggregation on 3D Arrays"
   ]
  },
  {
   "cell_type": "code",
   "execution_count": 42,
   "id": "8f474c99",
   "metadata": {},
   "outputs": [
    {
     "name": "stdout",
     "output_type": "stream",
     "text": [
      "<class 'numpy.ndarray'>\n",
      "[[[ 1  2  3]\n",
      "  [ 4  5  6]]\n",
      "\n",
      " [[ 7  8  9]\n",
      "  [10 11 12]]]\n",
      "(2, 2, 3)\n",
      "78\n",
      "6.5\n",
      "12\n"
     ]
    }
   ],
   "source": [
    "arr3d = np.array([\n",
    "    [[1, 2, 3],\n",
    "     [4, 5, 6]],\n",
    "    [[7, 8, 9],\n",
    "     [10, 11, 12]]\n",
    "\n",
    "])\n",
    "print(type(arr3d))\n",
    "print(arr3d)\n",
    "print(arr3d.shape)\n",
    "\n",
    "print(np.sum(arr3d))\n",
    "print(np.mean(arr3d))\n",
    "print(np.max(arr3d))"
   ]
  },
  {
   "cell_type": "code",
   "execution_count": null,
   "id": "b4757b7c",
   "metadata": {},
   "outputs": [
    {
     "name": "stdout",
     "output_type": "stream",
     "text": [
      "[[ 8 10 12]\n",
      " [14 16 18]]\n",
      "[[ 5  7  9]\n",
      " [17 19 21]]\n",
      "[[ 6 15]\n",
      " [24 33]]\n"
     ]
    }
   ],
   "source": [
    "#It can get really powerful\n",
    "\n",
    "print(np.sum(arr3d, axis = 0))\n",
    "\n",
    "print(np.sum(arr3d, axis = 1))\n",
    "\n",
    "#when the axis=2 collapse across the columns inside each row\n",
    "print(np.sum(arr3d, axis = 2))"
   ]
  },
  {
   "cell_type": "code",
   "execution_count": 9,
   "id": "360f1662",
   "metadata": {},
   "outputs": [
    {
     "name": "stdout",
     "output_type": "stream",
     "text": [
      "[[1 2 3]\n",
      " [4 5 6]\n",
      " [7 8 9]]\n"
     ]
    },
    {
     "data": {
      "text/plain": [
       "array([7, 8, 9])"
      ]
     },
     "execution_count": 9,
     "metadata": {},
     "output_type": "execute_result"
    }
   ],
   "source": [
    "A = np.array([[1,2,3],\n",
    "              [4,5,6],\n",
    "              [7,8,9]])\n",
    "print(A)\n",
    "A.max(axis=0)\n"
   ]
  },
  {
   "cell_type": "code",
   "execution_count": 7,
   "id": "75cb9abb",
   "metadata": {},
   "outputs": [
    {
     "data": {
      "text/plain": [
       "array([1, 4, 7])"
      ]
     },
     "execution_count": 7,
     "metadata": {},
     "output_type": "execute_result"
    }
   ],
   "source": [
    "A.min(axis=1)"
   ]
  }
 ],
 "metadata": {
  "kernelspec": {
   "display_name": "venv",
   "language": "python",
   "name": "python3"
  },
  "language_info": {
   "codemirror_mode": {
    "name": "ipython",
    "version": 3
   },
   "file_extension": ".py",
   "mimetype": "text/x-python",
   "name": "python",
   "nbconvert_exporter": "python",
   "pygments_lexer": "ipython3",
   "version": "3.13.7"
  }
 },
 "nbformat": 4,
 "nbformat_minor": 5
}
