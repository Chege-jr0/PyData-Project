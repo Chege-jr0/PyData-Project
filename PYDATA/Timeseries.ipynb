{
 "cells": [
  {
   "cell_type": "markdown",
   "id": "8fe4b41f",
   "metadata": {},
   "source": [
    "# Working with Time Series\n",
    "Since python was  develeped in the context of financial modelling you might expect a set of tools to work with dates, time and time-indexed data.\n",
    "Data can come in a few flavors which we will discuss here\n",
    " \n",
    "\n",
    "Timestamps => refers to particular moments in time(July 4th 2015 at 7:00am)\n",
    "\n",
    "Time intervals => refers to a length of time beyween a particular beginning and endpoint\n",
    "\n",
    "Time deltas => Durations reference an exact length of time e.g a duration of 22.56 seconds"
   ]
  },
  {
   "cell_type": "markdown",
   "id": "830c7fc0",
   "metadata": {},
   "source": [
    "# Native Python dates and times: datetime and dateutil\n",
    "python provides inbuilt module datetime\n",
    "python also provides dateutil module which is a third party "
   ]
  },
  {
   "cell_type": "code",
   "execution_count": 41,
   "id": "c5849032",
   "metadata": {},
   "outputs": [
    {
     "data": {
      "text/plain": [
       "datetime.datetime(2015, 7, 4, 0, 0)"
      ]
     },
     "execution_count": 41,
     "metadata": {},
     "output_type": "execute_result"
    }
   ],
   "source": [
    "#creating a datetime python object\n",
    "from datetime import datetime\n",
    "datetime(year=2015, month=7, day=4)\n",
    "#datetime.now()"
   ]
  },
  {
   "cell_type": "code",
   "execution_count": 42,
   "id": "125225fa",
   "metadata": {},
   "outputs": [
    {
     "data": {
      "text/plain": [
       "datetime.datetime(2015, 7, 4, 0, 0)"
      ]
     },
     "execution_count": 42,
     "metadata": {},
     "output_type": "execute_result"
    }
   ],
   "source": [
    "from dateutil import parser\n",
    "date = parser.parse(\"4th of July 2015\")\n",
    "date\n"
   ]
  },
  {
   "cell_type": "code",
   "execution_count": 43,
   "id": "65a717c0",
   "metadata": {},
   "outputs": [
    {
     "data": {
      "text/plain": [
       "'Saturday'"
      ]
     },
     "execution_count": 43,
     "metadata": {},
     "output_type": "execute_result"
    }
   ],
   "source": [
    "#strftime = \"\"string format time\"\n",
    "#%A = foramt code for full weekday name\n",
    "date.strftime('%A')\n"
   ]
  },
  {
   "cell_type": "markdown",
   "id": "81d6c64e",
   "metadata": {},
   "source": [
    "# Numpy datetime and Pandas Timestamp\n",
    "Python,s built-in datetime is powerful when working with large arrays\n",
    "Numpy comes in with datetime64 encodes dates as 64-bit integers which means they are compact(use less memory) and vectorized(operations work on entire arrays, super fast)"
   ]
  },
  {
   "cell_type": "code",
   "execution_count": 44,
   "id": "1c65f139",
   "metadata": {},
   "outputs": [
    {
     "name": "stdout",
     "output_type": "stream",
     "text": [
      "2015-07-04\n"
     ]
    }
   ],
   "source": [
    "import numpy as np\n",
    "\n",
    "date = np.array('2015-07-04', dtype = np.datetime64)\n",
    "print(date)"
   ]
  },
  {
   "cell_type": "markdown",
   "id": "96fa25e7",
   "metadata": {},
   "source": [
    "# Time unit trade-off\n",
    "Time unit trade off refers to the concept of exchanging a certain amount of time in one state for a different amount of time in another state\n",
    "\n",
    "datetime64 uses 64 bits total,\n",
    "\n",
    "You must choose a fundamental unit(years, days, seconds,nanoseconds)\n",
    "\n",
    "The finer the unit(like nanoseconds), the smaller the total representable span"
   ]
  },
  {
   "cell_type": "code",
   "execution_count": 45,
   "id": "6ca0aa9e",
   "metadata": {},
   "outputs": [
    {
     "data": {
      "text/plain": [
       "np.datetime64('2015-07-04')"
      ]
     },
     "execution_count": 45,
     "metadata": {},
     "output_type": "execute_result"
    }
   ],
   "source": [
    "#Day Resolution\n",
    "np.datetime64('2015-07-04')\n",
    "\n"
   ]
  },
  {
   "cell_type": "code",
   "execution_count": 46,
   "id": "f4fcd64c",
   "metadata": {},
   "outputs": [
    {
     "data": {
      "text/plain": [
       "np.datetime64('2015-07-04T12:00')"
      ]
     },
     "execution_count": 46,
     "metadata": {},
     "output_type": "execute_result"
    }
   ],
   "source": [
    "#Minute Resolution\n",
    "np.datetime64('2015-07-04 12:00')"
   ]
  },
  {
   "cell_type": "code",
   "execution_count": 47,
   "id": "12189a3b",
   "metadata": {},
   "outputs": [
    {
     "data": {
      "text/plain": [
       "np.datetime64('2015-07-04T12:59:59.500000000')"
      ]
     },
     "execution_count": 47,
     "metadata": {},
     "output_type": "execute_result"
    }
   ],
   "source": [
    "#Second resolution\n",
    "np.datetime64('2015-07-04 12:59:59.50', 'ns')"
   ]
  },
  {
   "cell_type": "markdown",
   "id": "2b51ec11",
   "metadata": {},
   "source": [
    "# Dates and Times in Pandas\n",
    "\n",
    "Pandas builds upon all the tools just discussed to provide a TimeStamp Object, which combines the ease of use of datetime and dateutil with the efficient storage and vectorized interface of numpy.datetime64.\n",
    "Fom this we can construct a DateTimeIndex that can be used to index data in a series or dataframe"
   ]
  },
  {
   "cell_type": "code",
   "execution_count": 48,
   "id": "a9573c19",
   "metadata": {},
   "outputs": [
    {
     "name": "stdout",
     "output_type": "stream",
     "text": [
      "Saturday\n",
      "DatetimeIndex(['2015-07-04', '2015-07-05', '2015-07-06', '2015-07-07',\n",
      "               '2015-07-08'],\n",
      "              dtype='datetime64[ns]', freq=None)\n"
     ]
    }
   ],
   "source": [
    "import pandas as pd\n",
    "\n",
    "date = pd.to_datetime(\"4th of July, 2015\")\n",
    "print(date.strftime('%A'))\n",
    "\n",
    "print(date + pd.to_timedelta(np.arange(5), 'D'))\n"
   ]
  },
  {
   "cell_type": "markdown",
   "id": "6298129b",
   "metadata": {},
   "source": [
    "# Indexing data by Time\n",
    "\n",
    "Pandas even becomes more powerful when you index your data by time instead of just numbers"
   ]
  },
  {
   "cell_type": "code",
   "execution_count": 49,
   "id": "212b5962",
   "metadata": {},
   "outputs": [
    {
     "name": "stdout",
     "output_type": "stream",
     "text": [
      "2014-07-04    0\n",
      "2014-08-04    1\n",
      "2015-07-04    2\n",
      "2015-08-04    3\n",
      "dtype: int64\n"
     ]
    }
   ],
   "source": [
    "index = pd.DatetimeIndex(['2014-07-04', '2014-08-04',\n",
    "                          '2015-07-04', '2015-08-04'])\n",
    "\n",
    "data = pd.Series([0,1,2,3], index=index)\n",
    "print(data)"
   ]
  },
  {
   "cell_type": "code",
   "execution_count": 50,
   "id": "bf31534a",
   "metadata": {},
   "outputs": [
    {
     "data": {
      "text/plain": [
       "2014-07-04    0\n",
       "2014-08-04    1\n",
       "2015-07-04    2\n",
       "dtype: int64"
      ]
     },
     "execution_count": 50,
     "metadata": {},
     "output_type": "execute_result"
    }
   ],
   "source": [
    "data['2014-07-04':'2015-07-04']"
   ]
  },
  {
   "cell_type": "code",
   "execution_count": 51,
   "id": "af6a9cb4",
   "metadata": {},
   "outputs": [
    {
     "data": {
      "text/plain": [
       "2015-07-04    2\n",
       "2015-08-04    3\n",
       "dtype: int64"
      ]
     },
     "execution_count": 51,
     "metadata": {},
     "output_type": "execute_result"
    }
   ],
   "source": [
    "data['2015']"
   ]
  },
  {
   "cell_type": "markdown",
   "id": "7be36dd4",
   "metadata": {},
   "source": [
    "# Pandas Time Series Data Structures"
   ]
  },
  {
   "cell_type": "markdown",
   "id": "fc4db76b",
   "metadata": {},
   "source": [
    "# Core Pandas Time Structures\n",
    "\n",
    "For timestamps, pandas provides:\n",
    "\n",
    "TimeStamp => A single time point(like Python,s datetime but faster) which is essentially replacement of pythons datetime\n",
    "\n",
    "\n",
    "DateTimeIndex => An index of timestamps\n",
    "\n",
    "\n",
    "For TimePeriods, pandas provides the Period type.This encodes a fixed-frequency interval based on numpy.datetime64\n",
    "\n",
    "Period => A span of time(e.g month, quarter)\n",
    "\n",
    "\n",
    "\n",
    "For Timedelta type.Timedelta is a more efficient replacement for python,s native datetime.timedelta type, and is based on numpy.timedelta64. This associated index structure is TimedeltaIndex\n",
    "\n",
    "TimeDelta => a duration(difference between times)"
   ]
  },
  {
   "cell_type": "code",
   "execution_count": 52,
   "id": "598dee86",
   "metadata": {},
   "outputs": [
    {
     "data": {
      "text/plain": [
       "DatetimeIndex(['2015-07-03', '2015-07-04', '2015-07-06', '2015-07-07',\n",
       "               '2015-07-08'],\n",
       "              dtype='datetime64[ns]', freq=None)"
      ]
     },
     "execution_count": 52,
     "metadata": {},
     "output_type": "execute_result"
    }
   ],
   "source": [
    "dates = pd.to_datetime([datetime(2015, 7, 3), '4th of July, 2015',\n",
    "                       '2015-Jul-6', '07-07-2015', '20150708'])\n",
    "dates"
   ]
  },
  {
   "cell_type": "code",
   "execution_count": 53,
   "id": "3144d50f",
   "metadata": {},
   "outputs": [
    {
     "data": {
      "text/plain": [
       "PeriodIndex(['2015-07-03', '2015-07-04', '2015-07-06', '2015-07-07',\n",
       "             '2015-07-08'],\n",
       "            dtype='period[D]')"
      ]
     },
     "execution_count": 53,
     "metadata": {},
     "output_type": "execute_result"
    }
   ],
   "source": [
    "#Any DateTimeIndex can be converted to a PeriodIndex with to_period()\n",
    "dates.to_period('D')"
   ]
  },
  {
   "cell_type": "code",
   "execution_count": 54,
   "id": "6ff772fc",
   "metadata": {},
   "outputs": [
    {
     "data": {
      "text/plain": [
       "TimedeltaIndex(['0 days', '1 days', '3 days', '4 days', '5 days'], dtype='timedelta64[ns]', freq=None)"
      ]
     },
     "execution_count": 54,
     "metadata": {},
     "output_type": "execute_result"
    }
   ],
   "source": [
    "#A TimedeltaIndex is created when a date is subtracted from another\n",
    "dates - dates[0]"
   ]
  },
  {
   "cell_type": "markdown",
   "id": "aba791b7",
   "metadata": {},
   "source": [
    "# Regular Sequences\n",
    "\n",
    "To make the creation of regular date sequences more convenient. Pandas offers a few functions for this purpose\n",
    "\n",
    "Regular sequences in Pandas => p.date.range()\n",
    "\n",
    "This works like range() in python but for times and dates\n",
    "You can specify the start and end, OR\n",
    "A start and number of periods, OR\n",
    "A start, end and a frequency(freq)\n",
    "\n"
   ]
  },
  {
   "cell_type": "code",
   "execution_count": 55,
   "id": "cb592efc",
   "metadata": {},
   "outputs": [
    {
     "data": {
      "text/plain": [
       "DatetimeIndex(['2015-07-03', '2015-07-04', '2015-07-05', '2015-07-06',\n",
       "               '2015-07-07', '2015-07-08', '2015-07-09', '2015-07-10'],\n",
       "              dtype='datetime64[ns]', freq='D')"
      ]
     },
     "execution_count": 55,
     "metadata": {},
     "output_type": "execute_result"
    }
   ],
   "source": [
    "pd.date_range('2015-07-03', '2015--7-10')\n",
    "\n"
   ]
  },
  {
   "cell_type": "code",
   "execution_count": 56,
   "id": "815e58b8",
   "metadata": {},
   "outputs": [
    {
     "data": {
      "text/plain": [
       "DatetimeIndex(['2015-07-03', '2015-07-04', '2015-07-05', '2015-07-06',\n",
       "               '2015-07-07', '2015-07-08', '2015-07-09', '2015-07-10'],\n",
       "              dtype='datetime64[ns]', freq='D')"
      ]
     },
     "execution_count": 56,
     "metadata": {},
     "output_type": "execute_result"
    }
   ],
   "source": [
    "pd.date_range('2015-07-03', periods=8)"
   ]
  },
  {
   "cell_type": "code",
   "execution_count": 57,
   "id": "927d9a9f",
   "metadata": {},
   "outputs": [
    {
     "name": "stderr",
     "output_type": "stream",
     "text": [
      "C:\\Users\\HP ELITEBOOK 840 G6\\AppData\\Local\\Temp\\ipykernel_2660\\3521404607.py:1: FutureWarning: 'H' is deprecated and will be removed in a future version, please use 'h' instead.\n",
      "  pd.date_range('2015-07-03', periods=8, freq='H')\n"
     ]
    },
    {
     "data": {
      "text/plain": [
       "DatetimeIndex(['2015-07-03 00:00:00', '2015-07-03 01:00:00',\n",
       "               '2015-07-03 02:00:00', '2015-07-03 03:00:00',\n",
       "               '2015-07-03 04:00:00', '2015-07-03 05:00:00',\n",
       "               '2015-07-03 06:00:00', '2015-07-03 07:00:00'],\n",
       "              dtype='datetime64[ns]', freq='h')"
      ]
     },
     "execution_count": 57,
     "metadata": {},
     "output_type": "execute_result"
    }
   ],
   "source": [
    "pd.date_range('2015-07-03', periods=8, freq='H')"
   ]
  },
  {
   "cell_type": "markdown",
   "id": "6bc80f22",
   "metadata": {},
   "source": [
    "# Regular Sequences of Periods\n",
    "Period represents time spans(like months, quarters, years)\n",
    "\n",
    "It is useful for data that isn,t about exact timestamps but about intervals.\n",
    "\n",
    "we use th pd.period_range()"
   ]
  },
  {
   "cell_type": "code",
   "execution_count": 58,
   "id": "c0b69e18",
   "metadata": {},
   "outputs": [
    {
     "data": {
      "text/plain": [
       "PeriodIndex(['2015-07-03'], dtype='period[D]')"
      ]
     },
     "execution_count": 58,
     "metadata": {},
     "output_type": "execute_result"
    }
   ],
   "source": [
    "pd.period_range('2015-07-03', '2015-7-03')"
   ]
  },
  {
   "cell_type": "code",
   "execution_count": 59,
   "id": "ae28f420",
   "metadata": {},
   "outputs": [
    {
     "data": {
      "text/plain": [
       "DatetimeIndex(['2015-07-03', '2015-07-04', '2015-07-05', '2015-07-06',\n",
       "               '2015-07-07', '2015-07-08', '2015-07-09', '2015-07-10'],\n",
       "              dtype='datetime64[ns]', freq='D')"
      ]
     },
     "execution_count": 59,
     "metadata": {},
     "output_type": "execute_result"
    }
   ],
   "source": [
    "pd.date_range('2015-07-03', periods =8)"
   ]
  },
  {
   "cell_type": "code",
   "execution_count": 60,
   "id": "4520b2a6",
   "metadata": {},
   "outputs": [
    {
     "name": "stderr",
     "output_type": "stream",
     "text": [
      "C:\\Users\\HP ELITEBOOK 840 G6\\AppData\\Local\\Temp\\ipykernel_2660\\3521404607.py:1: FutureWarning: 'H' is deprecated and will be removed in a future version, please use 'h' instead.\n",
      "  pd.date_range('2015-07-03', periods=8, freq='H')\n"
     ]
    },
    {
     "data": {
      "text/plain": [
       "DatetimeIndex(['2015-07-03 00:00:00', '2015-07-03 01:00:00',\n",
       "               '2015-07-03 02:00:00', '2015-07-03 03:00:00',\n",
       "               '2015-07-03 04:00:00', '2015-07-03 05:00:00',\n",
       "               '2015-07-03 06:00:00', '2015-07-03 07:00:00'],\n",
       "              dtype='datetime64[ns]', freq='h')"
      ]
     },
     "execution_count": 60,
     "metadata": {},
     "output_type": "execute_result"
    }
   ],
   "source": [
    "pd.date_range('2015-07-03', periods=8, freq='H')"
   ]
  },
  {
   "cell_type": "markdown",
   "id": "11d61fa7",
   "metadata": {},
   "source": [
    "# Regular Sequences of durations\n",
    "This works with time differences(like 1 hour, 2 days)\n",
    "\n",
    "Great for experiments, shifts, or logs"
   ]
  },
  {
   "cell_type": "code",
   "execution_count": 61,
   "id": "ec3695c3",
   "metadata": {},
   "outputs": [
    {
     "name": "stderr",
     "output_type": "stream",
     "text": [
      "C:\\Users\\HP ELITEBOOK 840 G6\\AppData\\Local\\Temp\\ipykernel_2660\\327657575.py:1: FutureWarning: 'H' is deprecated and will be removed in a future version, please use 'h' instead.\n",
      "  pd.timedelta_range(0, periods=10, freq = 'H')\n"
     ]
    },
    {
     "data": {
      "text/plain": [
       "TimedeltaIndex(['0 days 00:00:00', '0 days 01:00:00', '0 days 02:00:00',\n",
       "                '0 days 03:00:00', '0 days 04:00:00', '0 days 05:00:00',\n",
       "                '0 days 06:00:00', '0 days 07:00:00', '0 days 08:00:00',\n",
       "                '0 days 09:00:00'],\n",
       "               dtype='timedelta64[ns]', freq='h')"
      ]
     },
     "execution_count": 61,
     "metadata": {},
     "output_type": "execute_result"
    }
   ],
   "source": [
    "pd.timedelta_range(0, periods=10, freq = 'H')"
   ]
  },
  {
   "cell_type": "markdown",
   "id": "d3bb923c",
   "metadata": {},
   "source": [
    "We have other calendar-based frequencies\n",
    "\n",
    "'D' => Calendar Day\n",
    "\n",
    "'B' => Bussiness Day\n",
    "\n",
    "'W' => Weekly\n",
    "\n",
    "'M' => Month End\n",
    "\n",
    "'MS' => Month Start\n",
    "\n",
    "'Q' => Quarter End\n",
    "\n",
    "'QS' => Quarter Start\n",
    "\n",
    "'Y' or 'A' => Year End\n",
    "\n",
    "'YS' OR 'AS'=> Year Start\n",
    "\n",
    "\n",
    "# Time Based Frequencies\n",
    "\n",
    "'H' → Hourly\n",
    "\n",
    "'T' or 'min' → Minute\n",
    "\n",
    "'S' → Second\n",
    "\n",
    "'L' → Millisecond\n",
    "\n",
    "'U' → Microsecond\n",
    "\n",
    "'N' → Nanosecond\n",
    "\n"
   ]
  },
  {
   "cell_type": "code",
   "execution_count": 62,
   "id": "74399c53",
   "metadata": {},
   "outputs": [
    {
     "data": {
      "text/plain": [
       "DatetimeIndex(['2025-01-06', '2025-01-13', '2025-01-20', '2025-01-27',\n",
       "               '2025-02-03', '2025-02-10'],\n",
       "              dtype='datetime64[ns]', freq='W-MON')"
      ]
     },
     "execution_count": 62,
     "metadata": {},
     "output_type": "execute_result"
    }
   ],
   "source": [
    "#Every monday for 6 weeks\n",
    "pd.date_range('2025-01-01', periods =6, freq = 'W-MON')\n",
    "\n",
    "\n",
    "\n"
   ]
  },
  {
   "cell_type": "code",
   "execution_count": 63,
   "id": "a637bddc",
   "metadata": {},
   "outputs": [
    {
     "data": {
      "text/plain": [
       "DatetimeIndex(['2025-01-01', '2025-04-01', '2025-07-01', '2025-10-01'], dtype='datetime64[ns]', freq='QS-JAN')"
      ]
     },
     "execution_count": 63,
     "metadata": {},
     "output_type": "execute_result"
    }
   ],
   "source": [
    "#Quarterly starts\n",
    "pd.date_range('2025-01-01', periods =4, freq='QS')"
   ]
  },
  {
   "cell_type": "code",
   "execution_count": 64,
   "id": "47e96f73",
   "metadata": {},
   "outputs": [
    {
     "name": "stderr",
     "output_type": "stream",
     "text": [
      "C:\\Users\\HP ELITEBOOK 840 G6\\AppData\\Local\\Temp\\ipykernel_2660\\1732896066.py:2: FutureWarning: 'T' is deprecated and will be removed in a future version, please use 'min' instead.\n",
      "  pd.date_range('2025-01-01', periods =6, freq ='30T')\n"
     ]
    },
    {
     "data": {
      "text/plain": [
       "DatetimeIndex(['2025-01-01 00:00:00', '2025-01-01 00:30:00',\n",
       "               '2025-01-01 01:00:00', '2025-01-01 01:30:00',\n",
       "               '2025-01-01 02:00:00', '2025-01-01 02:30:00'],\n",
       "              dtype='datetime64[ns]', freq='30min')"
      ]
     },
     "execution_count": 64,
     "metadata": {},
     "output_type": "execute_result"
    }
   ],
   "source": [
    "#Every 30 minutes\n",
    "pd.date_range('2025-01-01', periods =6, freq ='30T')"
   ]
  },
  {
   "cell_type": "markdown",
   "id": "62b92c3c",
   "metadata": {},
   "source": [
    "# Frequencies and Offsets\n",
    "\n",
    "Frequencies and Offsets in Pandas are tools used to define regular intervals of time. They are especially important when working with time series data(data indexed or organized by time)\n",
    "\n",
    "They are used for \n",
    "To generate range of dates(e.g daily, weekly, hourly)\n",
    "\n",
    "To resample data(e.g convert daily stock date to monthly averages)\n",
    "\n",
    "To shift or offset time values( e.g, move all timestamps forward by 1 business day)"
   ]
  },
  {
   "cell_type": "markdown",
   "id": "56799636",
   "metadata": {},
   "source": [
    "# Offsets\n",
    "\n",
    "An offset is a python object that represents a specific time step\n",
    "\n",
    "Offsets live in pandas.tseries.offsets\n",
    "\n",
    "They give you finer control compared to string codes\n",
    "\n",
    "\n",
    "Simply Frequency and Offsets in Pandas are used to define, manipulate and step through time intervals when working with time series data."
   ]
  },
  {
   "cell_type": "code",
   "execution_count": 65,
   "id": "7e9c2e69",
   "metadata": {},
   "outputs": [
    {
     "data": {
      "text/plain": [
       "DatetimeIndex(['2025-01-01', '2025-01-02', '2025-01-03', '2025-01-06',\n",
       "               '2025-01-07'],\n",
       "              dtype='datetime64[ns]', freq='B')"
      ]
     },
     "execution_count": 65,
     "metadata": {},
     "output_type": "execute_result"
    }
   ],
   "source": [
    "from pandas.tseries.offsets import BDay\n",
    "pd.date_range(\"2025-01-01\", periods=5, freq=BDay())"
   ]
  },
  {
   "cell_type": "markdown",
   "id": "c3157909",
   "metadata": {},
   "source": [
    "# Resampling and Converting Frequencies in Pandas\n",
    "\n",
    "When working with time series dat, we often need to adjust the frequency of our data. Sometimes we want to summarize th data into a lower frequency( e.g daily, monthly) and other times we just want to align the data to a new frequency without changing its values.\n",
    "\n",
    "Pandas comes in and provides two powerful tools \n",
    "\n",
    "resample() => used for aggregation(summarizing data, like averages or totals) Example: get the average stock price per month\n",
    "\n",
    "asfreq() => used for selection(keeping exact values at specific times)\n",
    "Example: pick the stock price at the last day of ecah month"
   ]
  },
  {
   "cell_type": "code",
   "execution_count": 67,
   "id": "6f473b20",
   "metadata": {},
   "outputs": [
    {
     "name": "stdout",
     "output_type": "stream",
     "text": [
      "2025-01-01    100\n",
      "2025-01-02    102\n",
      "2025-01-03    105\n",
      "2025-01-04    103\n",
      "2025-01-05    107\n",
      "2025-01-06    108\n",
      "2025-01-07    110\n",
      "2025-01-08    112\n",
      "2025-01-09    115\n",
      "2025-01-10    117\n",
      "Freq: D, dtype: int64\n"
     ]
    }
   ],
   "source": [
    "dates = pd.date_range(\"2025-01-01\", periods=10, freq=\"D\")\n",
    "prices = [100, 102, 105, 103,107, 108, 110, 112, 115, 117]\n",
    "data = pd.Series(prices, index=dates)\n",
    "print(data)"
   ]
  },
  {
   "cell_type": "code",
   "execution_count": null,
   "id": "5ecf2dad",
   "metadata": {},
   "outputs": [
    {
     "name": "stdout",
     "output_type": "stream",
     "text": [
      "2025-01-05    103.4\n",
      "2025-01-12    112.4\n",
      "Freq: W-SUN, dtype: float64\n"
     ]
    }
   ],
   "source": [
    "#using resample()\n",
    "weekly_average = data.resample(\"W\").mean()\n",
    "print(weekly_average)"
   ]
  },
  {
   "cell_type": "code",
   "execution_count": null,
   "id": "6d1e5cb3",
   "metadata": {},
   "outputs": [
    {
     "name": "stdout",
     "output_type": "stream",
     "text": [
      "2025-01-03    105\n",
      "2025-01-10    117\n",
      "Freq: W-FRI, dtype: int64\n"
     ]
    }
   ],
   "source": [
    "#using afreq() to extract values at weekly frequency\n",
    "weekly_exact = data.asfreq(\"W-FRI\")\n",
    "\n",
    "print(weekly_exact)\n",
    "\n"
   ]
  },
  {
   "cell_type": "code",
   "execution_count": 74,
   "id": "3a8cb784",
   "metadata": {},
   "outputs": [
    {
     "name": "stdout",
     "output_type": "stream",
     "text": [
      "2025-01-06    108\n",
      "Freq: W-MON, dtype: int64\n"
     ]
    }
   ],
   "source": [
    "#Here the asfreq looks at the exact date. If no value exists on that date, you get NaN\n",
    "\n",
    "#If it gets NaN, you can specify with method = 'ffill'(forward fill) or method='bffill'(backward fill)\n",
    "\n",
    "weekly_ffill = data.asfreq(\"W-MON\", method = 'ffill')\n",
    "print(weekly_ffill)"
   ]
  },
  {
   "cell_type": "markdown",
   "id": "74c1ba1b",
   "metadata": {},
   "source": [
    "# TIME SHIFTS\n",
    "\n",
    "In time series analysis, sometimes you just dont want today,s values, you want to compare with past or future values\n",
    "\n",
    "For example\n",
    "\n",
    "What was the price of stock today compared to 30 days ago?\n",
    "\n",
    "What is the 1-year return on investment(ROI)\n",
    "\n",
    "For this, time shifting is very useful.\n",
    "\n",
    "shift() => shifts the data values up or down, the index stays the same, new empty spots get NaN\n",
    "\n",
    "tshift() => shifts the index(dates) forward or backward and the data value stays where they are.\n"
   ]
  },
  {
   "cell_type": "code",
   "execution_count": 75,
   "id": "d7ef3cae",
   "metadata": {},
   "outputs": [
    {
     "name": "stdout",
     "output_type": "stream",
     "text": [
      "2025-01-01    100\n",
      "2025-01-02    102\n",
      "2025-01-03    104\n",
      "2025-01-04    107\n",
      "2025-01-05    110\n",
      "Freq: D, dtype: int64\n"
     ]
    }
   ],
   "source": [
    "dates = pd.date_range(\"2025-01-01\", periods=5, freq=\"D\")\n",
    "goog = pd.Series([100, 102, 104, 107, 110], index=dates)\n",
    "print(goog)"
   ]
  },
  {
   "cell_type": "code",
   "execution_count": 76,
   "id": "bbbcf821",
   "metadata": {},
   "outputs": [
    {
     "data": {
      "text/plain": [
       "2025-01-01      NaN\n",
       "2025-01-02      NaN\n",
       "2025-01-03    100.0\n",
       "2025-01-04    102.0\n",
       "2025-01-05    104.0\n",
       "Freq: D, dtype: float64"
      ]
     },
     "execution_count": 76,
     "metadata": {},
     "output_type": "execute_result"
    }
   ],
   "source": [
    "goog.shift(2)"
   ]
  },
  {
   "cell_type": "code",
   "execution_count": 78,
   "id": "32896e03",
   "metadata": {},
   "outputs": [
    {
     "ename": "AttributeError",
     "evalue": "'Series' object has no attribute 'tshift'",
     "output_type": "error",
     "traceback": [
      "\u001b[31m---------------------------------------------------------------------------\u001b[39m",
      "\u001b[31mAttributeError\u001b[39m                            Traceback (most recent call last)",
      "\u001b[32m~\\AppData\\Local\\Temp\\ipykernel_2660\\2987608740.py\u001b[39m in \u001b[36m?\u001b[39m\u001b[34m()\u001b[39m\n\u001b[32m----> \u001b[39m\u001b[32m1\u001b[39m goog.tshift(\u001b[32m2\u001b[39m)\n",
      "\u001b[32mc:\\DATA ANALYTICS\\PYDATA\\venv\\Lib\\site-packages\\pandas\\core\\generic.py\u001b[39m in \u001b[36m?\u001b[39m\u001b[34m(self, name)\u001b[39m\n\u001b[32m   6314\u001b[39m             \u001b[38;5;28;01mand\u001b[39;00m name \u001b[38;5;28;01mnot\u001b[39;00m \u001b[38;5;28;01min\u001b[39;00m self._accessors\n\u001b[32m   6315\u001b[39m             \u001b[38;5;28;01mand\u001b[39;00m self._info_axis._can_hold_identifiers_and_holds_name(name)\n\u001b[32m   6316\u001b[39m         ):\n\u001b[32m   6317\u001b[39m             \u001b[38;5;28;01mreturn\u001b[39;00m self[name]\n\u001b[32m-> \u001b[39m\u001b[32m6318\u001b[39m         \u001b[38;5;28;01mreturn\u001b[39;00m object.__getattribute__(self, name)\n",
      "\u001b[31mAttributeError\u001b[39m: 'Series' object has no attribute 'tshift'"
     ]
    }
   ],
   "source": [
    "goog.tshift(2)"
   ]
  },
  {
   "cell_type": "markdown",
   "id": "5df58b45",
   "metadata": {},
   "source": [
    "# Rolling Windows\n",
    "\n",
    "A rolling window is a way to compute statistics(mean, sum, std) over a sliding subset of datapoints.\n",
    "\n",
    "A rolling windows lets you zoom into smaller segements of your time series and compute useful statistics to smooth analyze, or detect patterns over time.\n",
    "\n",
    "This can be accomplished via the rolling() attribute of Series and DataFrame objects, which returns a view similar to what we saw with the groupby operation.\n"
   ]
  },
  {
   "cell_type": "code",
   "execution_count": 79,
   "id": "d28ee314",
   "metadata": {},
   "outputs": [
    {
     "data": {
      "image/png": "[encoded data removed]",
      "text/plain": [
       "<Figure size 640x480 with 1 Axes>"
      ]
     },
     "metadata": {},
     "output_type": "display_data"
    }
   ],
   "source": [
    "rolling = goog.rolling(365, center=True)\n",
    "\n",
    "data = pd.DataFrame({'input': goog,\n",
    "                     'one-year rolling_mean': \n",
    "                     rolling.mean(),\n",
    "                     'one-year rolling-std':\n",
    "                     rolling.std()})\n",
    "ax = data.plot(style= ['-', '--', ':'])\n",
    "ax.lines[0].set_alpha(0.3)"
   ]
  }
 ],
 "metadata": {
  "kernelspec": {
   "display_name": "venv",
   "language": "python",
   "name": "python3"
  },
  "language_info": {
   "codemirror_mode": {
    "name": "ipython",
    "version": 3
   },
   "file_extension": ".py",
   "mimetype": "text/x-python",
   "name": "python",
   "nbconvert_exporter": "python",
   "pygments_lexer": "ipython3",
   "version": "3.13.7"
  }
 },
 "nbformat": 4,
 "nbformat_minor": 5
}
