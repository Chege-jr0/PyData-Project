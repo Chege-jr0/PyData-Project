{
 "cells": [
  {
   "cell_type": "markdown",
   "id": "5ec0c65c",
   "metadata": {},
   "source": [
    "## BroadCasting\n",
    "Broadcasting is Numpy's way of performing arithmetic operations on arrays of different shapes without explicitly replicating data.\n",
    "This works by stretching the smaller array along dimensions so it can match the bigger one.\n",
    "Instead of looping element, NumPy applies operations in a vectorized way."
   ]
  },
  {
   "cell_type": "markdown",
   "id": "fba4c82a",
   "metadata": {},
   "source": [
    "#BroadCasting Rules\n",
    "If the dimensions are equal => it is okay\n",
    "if one dimension is 1 => it is stretched to match the other\n",
    "if neither is 1 and they differ => incompatible"
   ]
  },
  {
   "cell_type": "code",
   "execution_count": null,
   "id": "3e5cc118",
   "metadata": {},
   "outputs": [
    {
     "name": "stdout",
     "output_type": "stream",
     "text": [
      "[11 12 13]\n"
     ]
    }
   ],
   "source": [
    "import numpy as np\n",
    "\n",
    "x = np.array([1,2,3])\n",
    "y = 10\n",
    "\n",
    "print(x+y)\n",
    "\n",
    "#In the example above 10 is broadcasted to match the shape of x"
   ]
  },
  {
   "cell_type": "code",
   "execution_count": null,
   "id": "470e5ac2",
   "metadata": {},
   "outputs": [
    {
     "name": "stdout",
     "output_type": "stream",
     "text": [
      "(2, 3)\n",
      "[[11 22 33]\n",
      " [14 25 36]]\n"
     ]
    }
   ],
   "source": [
    "A = np.array([[1,2,3],\n",
    "               [4,5,6]])\n",
    "\n",
    "B = np.array([10,20,30])\n",
    "\n",
    "print(A.shape)\n",
    "\n",
    "print(A+B)\n",
    "\n",
    "#The array that is incomplete is replicated to match the shape of the other array"
   ]
  },
  {
   "cell_type": "code",
   "execution_count": 6,
   "id": "118afb53",
   "metadata": {},
   "outputs": [
    {
     "name": "stdout",
     "output_type": "stream",
     "text": [
      "[[11 12 13]\n",
      " [24 25 26]]\n"
     ]
    }
   ],
   "source": [
    "#Column BroadCasting\n",
    "A = np.array([[1,2,3],\n",
    "              [4,5,6]])\n",
    "\n",
    "C = np.array([[10],\n",
    "                [20]])\n",
    "\n",
    "print(A + C)                              \n",
    "\n",
    "              \n"
   ]
  },
  {
   "cell_type": "code",
   "execution_count": 9,
   "id": "90a6cbb2",
   "metadata": {},
   "outputs": [
    {
     "name": "stdout",
     "output_type": "stream",
     "text": [
      "[[11 22 33]\n",
      " [14 25 36]\n",
      " [17 28 39]]\n"
     ]
    }
   ],
   "source": [
    "#Row BroadCasting\n",
    "A = np.array([[1,2,3],\n",
    "               [4, 5, 6],\n",
    "                [7,8,9]])\n",
    "\n",
    "row = np.array([10,20,30])        \n",
    "print(A+row)        \n"
   ]
  }
 ],
 "metadata": {
  "kernelspec": {
   "display_name": "venv",
   "language": "python",
   "name": "python3"
  },
  "language_info": {
   "codemirror_mode": {
    "name": "ipython",
    "version": 3
   },
   "file_extension": ".py",
   "mimetype": "text/x-python",
   "name": "python",
   "nbconvert_exporter": "python",
   "pygments_lexer": "ipython3",
   "version": "3.13.7"
  }
 },
 "nbformat": 4,
 "nbformat_minor": 5
}
