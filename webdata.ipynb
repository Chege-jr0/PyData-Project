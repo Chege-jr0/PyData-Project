{
 "cells": [
  {
   "cell_type": "code",
   "execution_count": 7,
   "id": "447b3fca",
   "metadata": {},
   "outputs": [],
   "source": [
    "import wbdata\n",
    "import pandas as pd\n",
    "import datetime"
   ]
  },
  {
   "cell_type": "code",
   "execution_count": null,
   "id": "799b4834",
   "metadata": {},
   "outputs": [
    {
     "name": "stdout",
     "output_type": "stream",
     "text": [
      "           GDP_USD\n",
      "date              \n",
      "2024  1.244987e+11\n",
      "2023  1.080386e+11\n",
      "2022  1.144490e+11\n",
      "2021  1.097037e+11\n",
      "2020  1.006575e+11\n"
     ]
    }
   ],
   "source": [
    "#Colection of data from World Bank\n",
    "data_date = (datetime.datetime(2010, 1, 1), datetime.datetime(2024, 12, 31))\n",
    "\n",
    "indicators = {'NY.GDP.MKTP.CD' : 'GDP_USD'}\n",
    "\n",
    "data = wbdata.get_dataframe(indicators, country='KEN')\n",
    "\n",
    "print(data.head())\n"
   ]
  },
  {
   "cell_type": "code",
   "execution_count": null,
   "id": "ddf61558",
   "metadata": {},
   "outputs": [
    {
     "name": "stdout",
     "output_type": "stream",
     "text": [
      "         date       GDP_USD\n",
      "14 2010-01-01  4.540562e+10\n",
      "13 2011-01-01  4.686947e+10\n",
      "12 2012-01-01  5.639670e+10\n",
      "11 2013-01-01  6.167144e+10\n",
      "10 2014-01-01  6.828580e+10\n"
     ]
    }
   ],
   "source": [
    "#Setting the date to the required time and using the date format\n",
    "start_date = datetime.datetime(2010, 1, 1)\n",
    "end_date = datetime.datetime(2024, 1, 1)\n",
    "\n",
    "gdp_data = data.reset_index()\n",
    "\n",
    "gdp_data['date'] = pd.to_datetime(gdp_data['date'], format='%Y', errors='coerce')\n",
    "gdp_data = gdp_data.sort_values('date')\n",
    "\n",
    "gdp_data = gdp_data[(gdp_data['date'] >= start_date) & (gdp_data['date'] <= end_date)]\n",
    "\n",
    "print(gdp_data.head())"
   ]
  },
  {
   "cell_type": "code",
   "execution_count": 20,
   "id": "602a2b4a",
   "metadata": {},
   "outputs": [
    {
     "name": "stdout",
     "output_type": "stream",
     "text": [
      "         date       GDP_USD\n",
      "14 2010-01-01  4.540562e+10\n",
      "13 2011-01-01  4.686947e+10\n",
      "12 2012-01-01  5.639670e+10\n",
      "11 2013-01-01  6.167144e+10\n",
      "10 2014-01-01  6.828580e+10\n"
     ]
    }
   ],
   "source": [
    "#Drop any missing values\n",
    "gdp_new_data = gdp_data.dropna()\n",
    "\n",
    "print(gdp_new_data.head())"
   ]
  },
  {
   "cell_type": "code",
   "execution_count": null,
   "id": "da453940",
   "metadata": {},
   "outputs": [
    {
     "name": "stderr",
     "output_type": "stream",
     "text": [
      "<>:1: SyntaxWarning: invalid escape sequence '\\D'\n",
      "<>:1: SyntaxWarning: invalid escape sequence '\\D'\n",
      "C:\\Users\\HP ELITEBOOK 840 G6\\AppData\\Local\\Temp\\ipykernel_24968\\3026982200.py:1: SyntaxWarning: invalid escape sequence '\\D'\n",
      "  cbk_data = pd.read_csv(\"C:\\DATA ANALYTICS\\PYDATA\\PyData_Project\\data\\Mobile_Payments_2010-2024.csv\")\n"
     ]
    }
   ],
   "source": [
    "#Reading the data from csv file\n",
    "cbk_data = pd.read_csv(\"C:\\DATA ANALYTICS\\PYDATA\\PyData_Project\\data\\Mobile_Payments_2010-2024.csv\")"
   ]
  },
  {
   "cell_type": "code",
   "execution_count": 27,
   "id": "529b2753",
   "metadata": {},
   "outputs": [
    {
     "name": "stdout",
     "output_type": "stream",
     "text": [
      "     Year  Month  Active Agents  Active Agents.1  \\\n",
      "219  2007  March            307         0.020992   \n",
      "218  2007  April            362         0.054944   \n",
      "217  2007    May            447         0.107733   \n",
      "216  2007   June            527         0.175652   \n",
      "215  2007   July            681         0.268499   \n",
      "\n",
      "     Total Agent Cash in Cash Out (Volume Million)  \\\n",
      "219                                       0.021714   \n",
      "218                                       0.070000   \n",
      "217                                       0.150000   \n",
      "216                                       0.233661   \n",
      "215                                       0.354298   \n",
      "\n",
      "     Total Agent Cash in Cash Out (Value KSh billions)       date  \n",
      "219                                           0.064391 2007-03-01  \n",
      "218                                           0.220896 2007-04-01  \n",
      "217                                           0.483709 2007-05-01  \n",
      "216                                           0.720102 2007-06-01  \n",
      "215                                           1.065370 2007-07-01  \n"
     ]
    }
   ],
   "source": [
    "cbk_data['date'] = pd.to_datetime(cbk_data['Year'].astype(str) + '-' + cbk_data['Month'], format='%Y-%B')\n",
    "cbk_new_data = cbk_data.sort_values('date')\n",
    "print(cbk_new_data.head())"
   ]
  },
  {
   "cell_type": "code",
   "execution_count": 28,
   "id": "b8f2c965",
   "metadata": {},
   "outputs": [
    {
     "name": "stdout",
     "output_type": "stream",
     "text": [
      "            Year  Month  Active Agents  Active Agents.1  \\\n",
      "date                                                      \n",
      "2007-03-01  2007  March            307         0.020992   \n",
      "2007-04-01  2007  April            362         0.054944   \n",
      "2007-05-01  2007    May            447         0.107733   \n",
      "2007-06-01  2007   June            527         0.175652   \n",
      "2007-07-01  2007   July            681         0.268499   \n",
      "\n",
      "            Total Agent Cash in Cash Out (Volume Million)  \\\n",
      "date                                                        \n",
      "2007-03-01                                       0.021714   \n",
      "2007-04-01                                       0.070000   \n",
      "2007-05-01                                       0.150000   \n",
      "2007-06-01                                       0.233661   \n",
      "2007-07-01                                       0.354298   \n",
      "\n",
      "            Total Agent Cash in Cash Out (Value KSh billions)  \n",
      "date                                                           \n",
      "2007-03-01                                           0.064391  \n",
      "2007-04-01                                           0.220896  \n",
      "2007-05-01                                           0.483709  \n",
      "2007-06-01                                           0.720102  \n",
      "2007-07-01                                           1.065370  \n"
     ]
    }
   ],
   "source": [
    "#Setting the date as the index\n",
    "Mobile_data = cbk_new_data.set_index('date')\n",
    "print(Mobile_data.head())"
   ]
  }
 ],
 "metadata": {
  "kernelspec": {
   "display_name": "venv",
   "language": "python",
   "name": "python3"
  },
  "language_info": {
   "codemirror_mode": {
    "name": "ipython",
    "version": 3
   },
   "file_extension": ".py",
   "mimetype": "text/x-python",
   "name": "python",
   "nbconvert_exporter": "python",
   "pygments_lexer": "ipython3",
   "version": "3.13.7"
  }
 },
 "nbformat": 4,
 "nbformat_minor": 5
}
