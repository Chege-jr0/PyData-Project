{
 "cells": [
  {
   "cell_type": "code",
   "execution_count": null,
   "id": "799b4834",
   "metadata": {},
   "outputs": [
    {
     "name": "stdout",
     "output_type": "stream",
     "text": [
      "        Date  GDP_Current_USD\n",
      "0 1960-01-01     7.912655e+08\n",
      "1 1961-01-01     7.929595e+08\n",
      "2 1962-01-01     8.681114e+08\n",
      "3 1963-01-01     9.265893e+08\n",
      "4 1964-01-01     9.987593e+08\n"
     ]
    }
   ],
   "source": [
    "import wbdata\n",
    "import pandas as pd\n",
    "\n",
    "indicators = {'NY.GDP.MKTP.CD': 'GDP_USD'}   \n",
    "\n",
    "df = wbdata.get_dataframe(indicators, country='KEN')   \n",
    "\n",
    "df = df.reset_index()   \n",
    "\n",
    "if 'date' in df.columns:\n",
    "    df['Date'] = pd.to_datetime(df['date'], errors='coerce')\n",
    "\n",
    "else:\n",
    "    first_col = df.columns[0]\n",
    "    df['Date'] = pd.to_datetime(df[first_col].astype(str), format='%Y', errors='coerce')\n",
    "\n",
    "df = df.rename(columns={'GDP_USD': 'GDP_Current_USD'})\n",
    "df = df[['Date', 'GDP_Current_USD']].dropna().sort_values('Date').reset_index(drop=True)\n",
    "\n",
    "print(df.head())\n",
    "\n"
   ]
  },
  {
   "cell_type": "code",
   "execution_count": null,
   "id": "ddf61558",
   "metadata": {},
   "outputs": [
    {
     "name": "stdout",
     "output_type": "stream",
     "text": [
      "         Date  GDP_Current_USD\n",
      "50 2010-01-01     4.540562e+10\n",
      "51 2011-01-01     4.686947e+10\n",
      "52 2012-01-01     5.639670e+10\n",
      "53 2013-01-01     6.167144e+10\n",
      "54 2014-01-01     6.828580e+10\n",
      "         Date  GDP_Current_USD\n",
      "60 2020-01-01     1.006575e+11\n",
      "61 2021-01-01     1.097037e+11\n",
      "62 2022-01-01     1.144490e+11\n",
      "63 2023-01-01     1.080386e+11\n",
      "64 2024-01-01     1.244987e+11\n"
     ]
    }
   ],
   "source": [
    "import datetime as dt\n",
    "\n",
    "start_date = dt.datetime(2010, 1, 1)\n",
    "end_date   = dt.datetime(2024, 12, 31)\n",
    "\n",
    "gdp_filtered = df[(df['Date'] >= start_date) & (df['Date'] <= end_date)].copy()\n",
    "\n",
    "print(gdp_filtered.head())\n",
    "print(gdp_filtered.tail())"
   ]
  }
 ],
 "metadata": {
  "kernelspec": {
   "display_name": "venv",
   "language": "python",
   "name": "python3"
  },
  "language_info": {
   "codemirror_mode": {
    "name": "ipython",
    "version": 3
   },
   "file_extension": ".py",
   "mimetype": "text/x-python",
   "name": "python",
   "nbconvert_exporter": "python",
   "pygments_lexer": "ipython3",
   "version": "3.13.7"
  }
 },
 "nbformat": 4,
 "nbformat_minor": 5
}
